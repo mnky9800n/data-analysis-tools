{
 "cells": [
  {
   "cell_type": "markdown",
   "metadata": {},
   "source": [
    "# Scraping monsters and anticipating ACs to estimate critical threat probabilities\n",
    "\n",
    "In d&d 3.5e, rolling a \"critical\" is an exciting event. You get to do extra damage to the monsters you are fighting and everyone always is rather excited to roll high when it happens. While the traditional critical happens when you roll 20 on the 20 sided die, some weapons have a larger range. Calculating the probability of rolling a number in this range is fairly straightforward:\n",
    "\n",
    "| critical threat range | probability |\n",
    "|-----------------------|-------------|\n",
    "| 20                    | 0.05        |\n",
    "| 19-20                 | 0.10        |\n",
    "| 18-20                 | 0.15        |\n",
    "\n",
    "Basically, the more sides of a die, the more increments of 0.05 you get in probability. While this step is straightforward, actually succeeding and thus causing critical damage is more complex.\n",
    "\n",
    "After your first successful critical roll you must again roll against the [Armor Class (AC)](http://www.d20srd.org/srd/combat/combatStatistics.htm) of the creature you are attacking. This produces an unknown since we typically do not know the AC of the creature we are attacking (the information is hidden by the dungeon master). Thus it becomes difficult to antipate the probability of successfully checking your critical. This notebook stands to provide some insight into these probabilities.\n",
    "\n",
    "The goal of this notebook is to do the following:\n",
    "\n",
    "1. scrape all the stats of monsters on the [d&d 3.5e SRD](https://d20srd.org)\n",
    "2. Calculate the average/distribution of ACs of monsters that sum to appropriate [encounter levels](http://www.d20srd.org/srd/monsters/intro.htm#challengeRating) for parties level 1-20\n",
    "3. Calculate the probabilities of critical threats based on different critical threat ranges for each party level based on the established distribution of ACs\n",
    "\n",
    "## What are Encounter Levels?\n",
    "\n",
    "Encounter levels are an inaccurate measurement of how difficult a battle will be for a party of level X. A 4th level party (i.e., all the party members are level 4 characters) fighting a battle of Encounter level 4 should have a reasonable amount of difficulty in the encounter. Greater than 4 its more difficult, less than 4 it is more easy. I say this is \"inaccurate\" because ultimately there are many things that go into whether an encounter is difficult or easy (feats and abilities, magic items the party possesses, etc.). But basically, it's all we got to generate a list of monsters suitable to fight a specific party. To generate an encounter level we sum the challenge ratings of the monsters the party is fighting. So if a zombie has a Challenge rating  of 1/2 and we have a level 4 party, they should fight 8 zombies to provide an adequate challenge.\n",
    "\n",
    "## Caveats\n",
    "\n",
    "1. Currently, if there is more than one table describing a monster in the monster description, only the first table is included, this will probably bias the monster statistics negatively since it typically shows the least powerful monster first"
   ]
  },
  {
   "cell_type": "code",
   "execution_count": 1,
   "metadata": {},
   "outputs": [],
   "source": [
    "%matplotlib inline\n",
    "\n",
    "import bs4 as bs\n",
    "import urllib.request\n",
    "import pandas as pd\n",
    "import matplotlib.pyplot as plt\n",
    "import numpy as np"
   ]
  },
  {
   "cell_type": "markdown",
   "metadata": {},
   "source": [
    "This pulls the list of links from the srd website for all the monsters. They are formatted in 'columns' right now the code beneath only looks at the first column (`monster_cols[0]`) but this can be changed with a simple for loop"
   ]
  },
  {
   "cell_type": "code",
   "execution_count": 2,
   "metadata": {},
   "outputs": [],
   "source": [
    "source = urllib.request.urlopen('http://www.d20srd.org/indexes/monsters.htm').read()\n",
    "soup = bs.BeautifulSoup(source,'lxml')\n",
    "monster_cols = soup.findAll('ul', {'class':'column'})"
   ]
  },
  {
   "cell_type": "markdown",
   "metadata": {},
   "source": [
    "Some of the links here have sub links, thus we split on the '#' and then remove the duplicates with the list/set combo. We are probably losing some of the creatures since there is sometimes creatures that are coming in different strengths and weaknesses but thats fine for now."
   ]
  },
  {
   "cell_type": "code",
   "execution_count": 3,
   "metadata": {},
   "outputs": [
    {
     "name": "stdout",
     "output_type": "stream",
     "text": [
      "number of monsters: 248\n"
     ]
    }
   ],
   "source": [
    "parsed_links = []\n",
    "\n",
    "for col in monster_cols:\n",
    "    links = col.findAll('a', href=True)\n",
    "    for link in links:\n",
    "        beginning = 'http://www.d20srd.org'\n",
    "        link = beginning + link['href'].split('#')[0]\n",
    "        parsed_links.append(link)\n",
    "\n",
    "parsed_links = list(set(parsed_links))\n",
    "print('number of monsters:', len(parsed_links))"
   ]
  },
  {
   "cell_type": "markdown",
   "metadata": {},
   "source": [
    "Here we take out all of the data in the statBlocks and turn it into data that will fit into a pandas dataframe. Note the comment in the try/except block. There will need to be more parsing of data done before its in a format that lends itself to statistics, but getting all the data into a tabulated format is important first, then we can tease apart the rest."
   ]
  },
  {
   "cell_type": "code",
   "execution_count": 4,
   "metadata": {},
   "outputs": [
    {
     "name": "stdout",
     "output_type": "stream",
     "text": [
      "df row 247 appended . . .\n"
     ]
    }
   ],
   "source": [
    "from IPython.display import clear_output\n",
    "\n",
    "errors = []\n",
    "data_length = []\n",
    "for i, link in enumerate(parsed_links):\n",
    "    if i % 3:\n",
    "        clear_output()\n",
    "    source = urllib.request.urlopen(link).read()\n",
    "    soup = bs.BeautifulSoup(source, 'lxml')\n",
    "    table = soup.findAll('table', {'class': 'statBlock'})\n",
    "    try:\n",
    "        table_rows = table[0].findAll('tr')\n",
    "        rows = []\n",
    "        for tr in table_rows:\n",
    "            rows.append(tr.text)\n",
    "\n",
    "        data = []\n",
    "        data.append(['Link', link])\n",
    "        for row in rows:\n",
    "            data.append(row.split('\\n')[1:3])\n",
    "\n",
    "\n",
    "        if 'df' not in locals():\n",
    "            print('df created . . .')\n",
    "            df = pd.DataFrame()\n",
    "            df = pd.concat([df, pd.DataFrame(dict(data), index=(i,))])\n",
    "        else:\n",
    "            df = pd.concat([df, pd.DataFrame(dict(data), index=(i,))], sort=False)\n",
    "            print('df row {n} appended . . .'.format(n=i))\n",
    "        errors.append(0)\n",
    "        data_length.append(len(data))\n",
    "\n",
    "    except IndexError:\n",
    "        \"\"\"\n",
    "        The exceptions here are okay because they are excepting out data\n",
    "        that isn't appearing in the format. That is there is no statBlock\n",
    "        data in the links being searched so they are excepted out.\n",
    "        \"\"\"\n",
    "        errors.append(1)\n",
    "        data_length.append(len(data))\n",
    "\n",
    "        \n",
    "error_analysis = pd.DataFrame({'errors':errors, 'data_length':data_length, 'links':parsed_links})"
   ]
  },
  {
   "cell_type": "code",
   "execution_count": 5,
   "metadata": {},
   "outputs": [
    {
     "data": {
      "text/html": [
       "<div>\n",
       "<style scoped>\n",
       "    .dataframe tbody tr th:only-of-type {\n",
       "        vertical-align: middle;\n",
       "    }\n",
       "\n",
       "    .dataframe tbody tr th {\n",
       "        vertical-align: top;\n",
       "    }\n",
       "\n",
       "    .dataframe thead th {\n",
       "        text-align: right;\n",
       "    }\n",
       "</style>\n",
       "<table border=\"1\" class=\"dataframe\">\n",
       "  <thead>\n",
       "    <tr style=\"text-align: right;\">\n",
       "      <th></th>\n",
       "      <th>errors</th>\n",
       "      <th>data_length</th>\n",
       "      <th>links</th>\n",
       "    </tr>\n",
       "  </thead>\n",
       "  <tbody>\n",
       "    <tr>\n",
       "      <td>4</td>\n",
       "      <td>1</td>\n",
       "      <td>23</td>\n",
       "      <td>http://www.d20srd.org/srd/monsters/direAnimal.htm</td>\n",
       "    </tr>\n",
       "    <tr>\n",
       "      <td>72</td>\n",
       "      <td>1</td>\n",
       "      <td>23</td>\n",
       "      <td>http://www.d20srd.org/srd/monsters/lich.htm</td>\n",
       "    </tr>\n",
       "    <tr>\n",
       "      <td>75</td>\n",
       "      <td>1</td>\n",
       "      <td>24</td>\n",
       "      <td>http://www.d20srd.org/srd/monsters/halfDragon.htm</td>\n",
       "    </tr>\n",
       "    <tr>\n",
       "      <td>82</td>\n",
       "      <td>1</td>\n",
       "      <td>21</td>\n",
       "      <td>http://www.d20srd.org/srd/monsters/halfCelesti...</td>\n",
       "    </tr>\n",
       "    <tr>\n",
       "      <td>133</td>\n",
       "      <td>1</td>\n",
       "      <td>23</td>\n",
       "      <td>http://www.d20srd.org/srd/monsters/fiendishCre...</td>\n",
       "    </tr>\n",
       "    <tr>\n",
       "      <td>152</td>\n",
       "      <td>1</td>\n",
       "      <td>23</td>\n",
       "      <td>http://www.d20srd.org/srd/monsters/halfFiend.htm</td>\n",
       "    </tr>\n",
       "    <tr>\n",
       "      <td>195</td>\n",
       "      <td>1</td>\n",
       "      <td>21</td>\n",
       "      <td>http://www.d20srd.org/srd/monsters/celestialCr...</td>\n",
       "    </tr>\n",
       "    <tr>\n",
       "      <td>207</td>\n",
       "      <td>1</td>\n",
       "      <td>23</td>\n",
       "      <td>http://www.d20srd.org/srd/monsters/ghost.htm</td>\n",
       "    </tr>\n",
       "  </tbody>\n",
       "</table>\n",
       "</div>"
      ],
      "text/plain": [
       "     errors  data_length                                              links\n",
       "4         1           23  http://www.d20srd.org/srd/monsters/direAnimal.htm\n",
       "72        1           23        http://www.d20srd.org/srd/monsters/lich.htm\n",
       "75        1           24  http://www.d20srd.org/srd/monsters/halfDragon.htm\n",
       "82        1           21  http://www.d20srd.org/srd/monsters/halfCelesti...\n",
       "133       1           23  http://www.d20srd.org/srd/monsters/fiendishCre...\n",
       "152       1           23   http://www.d20srd.org/srd/monsters/halfFiend.htm\n",
       "195       1           21  http://www.d20srd.org/srd/monsters/celestialCr...\n",
       "207       1           23       http://www.d20srd.org/srd/monsters/ghost.htm"
      ]
     },
     "execution_count": 5,
     "metadata": {},
     "output_type": "execute_result"
    }
   ],
   "source": [
    "\"\"\"\n",
    "all of these are monster pages that do not have any monster statistics blocks\n",
    "in them\n",
    "\"\"\"\n",
    "\n",
    "error_analysis[error_analysis.errors > 0]"
   ]
  },
  {
   "cell_type": "code",
   "execution_count": 6,
   "metadata": {},
   "outputs": [],
   "source": [
    "\"\"\"\n",
    "There may be some duplicates here, lets get rid of them\n",
    "\n",
    "Also, since we care so much about AC, rows with NaN ACs are \n",
    "useless. drop them too.\n",
    "\n",
    "TODO: inspect the input data so there is no duplicates anymore\n",
    "\"\"\"\n",
    "\n",
    "df.drop_duplicates(inplace=True)\n",
    "df = df[~df['Armor Class:'].isnull()].copy()"
   ]
  },
  {
   "cell_type": "code",
   "execution_count": 7,
   "metadata": {},
   "outputs": [],
   "source": [
    "df['Title'] = df.Link.apply(lambda row: row.split('/')[-1].split('.')[0])"
   ]
  },
  {
   "cell_type": "code",
   "execution_count": 8,
   "metadata": {},
   "outputs": [
    {
     "data": {
      "text/plain": [
       "(239, 26)"
      ]
     },
     "execution_count": 8,
     "metadata": {},
     "output_type": "execute_result"
    }
   ],
   "source": [
    "df.shape"
   ]
  },
  {
   "cell_type": "markdown",
   "metadata": {},
   "source": [
    "Thus the raw data is parsed and we now have stats for 240 monsters \n"
   ]
  },
  {
   "cell_type": "code",
   "execution_count": null,
   "metadata": {},
   "outputs": [],
   "source": [
    "df.columns"
   ]
  },
  {
   "cell_type": "code",
   "execution_count": null,
   "metadata": {},
   "outputs": [],
   "source": [
    "\"\"\"\n",
    "Converting AC into integers helps with statistics\n",
    "\n",
    "This ignores touch AC or flat footed AC\n",
    "\"\"\"\n",
    "\n",
    "df['AC(int)'] = df['Armor Class:'].apply(lambda row: row.split(' ')[0]).astype(int)"
   ]
  },
  {
   "cell_type": "code",
   "execution_count": null,
   "metadata": {},
   "outputs": [],
   "source": [
    "\"\"\"\n",
    "Challenge ratings can be fractional (e.g., goblins are weak but often\n",
    "there are a lot of them). Thus we need a function that will convert the\n",
    "fractional strings into floats so we can do statistics.\n",
    "\n",
    "Additionally, there is some string handling that is done because sometimes\n",
    "there are \n",
    "\"\"\"\n",
    "\n",
    "def get_float_from_fraction_str(fraction):\n",
    "    fraction = fraction.split('/')\n",
    "    numerator = float(fraction[0])\n",
    "    denominator = float(fraction[1])\n",
    "    return numerator/denominator\n",
    "\n",
    "def convert_challenge_rating(CR):\n",
    "    CR_len = len(CR.split('/'))\n",
    "    if '/' in CR:\n",
    "        return get_float_from_fraction_str(CR)\n",
    "    elif ' ' in CR:\n",
    "        return CR.split(' ')[0]\n",
    "    else:\n",
    "        try:\n",
    "            return float(CR)\n",
    "        except ValueError:\n",
    "            import unicodedata\n",
    "            return unicodedata.numeric(CR)"
   ]
  },
  {
   "cell_type": "code",
   "execution_count": null,
   "metadata": {},
   "outputs": [],
   "source": [
    "df['CR(float)'] = df['Challenge Rating:'].apply(convert_challenge_rating).astype(float)"
   ]
  },
  {
   "cell_type": "code",
   "execution_count": null,
   "metadata": {},
   "outputs": [],
   "source": [
    "df[['AC(int)', 'CR(float)']].describe()"
   ]
  },
  {
   "cell_type": "code",
   "execution_count": null,
   "metadata": {},
   "outputs": [],
   "source": [
    "fig, (ax, ax2)= plt.subplots(1, 2, figsize=(10, 6), sharey=True)\n",
    "\n",
    "df['AC(int)'].hist(bins=np.arange(0, 41, 1), grid=False, ax=ax, color='green')\n",
    "df['CR(float)'].hist(bins=np.arange(0, 22, 1), grid=False, ax=ax2, color='Purple')\n",
    "\n",
    "ax.set_xlabel('Armor Class', fontsize=15)\n",
    "ax2.set_xlabel('Challenge Rating', fontsize=15)\n",
    "\n",
    "fig, ax3 = plt.subplots(figsize=(10, 7))\n",
    "\n",
    "ax3.scatter(x=df['CR(float)'].values, y=df['AC(int)'].values, alpha=0.5)\n",
    "ax3.set_xlabel('Challenge Rating', fontsize=15)\n",
    "ax3.set_ylabel('Armor Class', fontsize=15)\n",
    "\n",
    "ax4 = fig.add_axes([0.6, 0.2, 0.25, 0.3])\n",
    "ax4.scatter(x=df['CR(float)'].values, y=df['AC(int)'].values, alpha=0.5)\n",
    "ax4.set_xlim(0, 5)\n",
    "ax4.set_ylim(10, 20)\n",
    "ax4.set_ylabel('Armor Class', fontsize=12)\n",
    "ax4.set_xlabel('Challenge Rating', fontsize=12)\n",
    "\n",
    "p = np.poly1d(np.polyfit(x=df['CR(float)'].values, y=df['AC(int)'].values, deg=2))\n",
    "x = np.arange(0, 30, 0.1)\n",
    "y = p(x)\n",
    "ax3.plot(x, y, color='red', linewidth=3, alpha=0.5)\n",
    "ax4.plot(x, y, color='red', linewidth=3, alpha=0.5)\n",
    "\n",
    "\"\"\"\n",
    "As I expected, there is a somewhat linear relation between challenge rating\n",
    "and armor class, that is, as challenge rating goes up, so does armor class.\n",
    "\n",
    "Armor class seems to be roughly normally distributed, whereas challenge rating\n",
    "seems to be rougly poisson distributed.\n",
    "\"\"\"\n",
    "''"
   ]
  },
  {
   "cell_type": "markdown",
   "metadata": {},
   "source": [
    "Calculating the average AC for encounters that the party will encounter\n",
    "\n",
    "1. for each level party, assume that there are 4 players built exclusively\n",
    "from the SRD.\n",
    "\n",
    "2. build a sub database of monsters of the CR equal to the party and lower\n",
    "\n",
    "3. Bootstrap encounters from the sub database for the appropriate ECL\n",
    "\n",
    "4. Calculate average AC\n",
    "\n",
    "5. Calculate probability to crit successfully for attack modifiers +1 to +10\n"
   ]
  },
  {
   "cell_type": "code",
   "execution_count": null,
   "metadata": {},
   "outputs": [],
   "source": [
    "AC_df = df[['Link', 'Title', 'AC(int)', 'CR(float)']].copy()"
   ]
  },
  {
   "cell_type": "code",
   "execution_count": null,
   "metadata": {},
   "outputs": [],
   "source": [
    "# AC_df[AC_df['CR(float)'] <= 4].sample(n=1)['Title'].values[0]"
   ]
  },
  {
   "cell_type": "code",
   "execution_count": null,
   "metadata": {},
   "outputs": [],
   "source": [
    "def get_monster(monster_db):\n",
    "    monster = monster_db.sample(n=1)\n",
    "    monster_ac = monster['AC(int)'].values[0]\n",
    "    monster_cr = monster['CR(float)'].values[0]\n",
    "    monster_name = monster['Title'].values[0]\n",
    "    return {'name':monster_name, 'cr':monster_cr, 'ac':monster_ac}\n",
    "\n",
    "\n",
    "def get_party_at_ECL(ECL, monster_db):\n",
    "    monster_db = monster_db[monster_db['CR(float)'] < ECL].copy()\n",
    "    \n",
    "    cr = 0\n",
    "    monsters = []\n",
    "\n",
    "    while cr < ECL:\n",
    "        monster = get_monster(monster_db)\n",
    "#         print(monster)\n",
    "        cr += monster['cr']\n",
    "        monsters.append(monster)\n",
    "#         print('cr:', cr)\n",
    "        \n",
    "    return monsters\n",
    "    \n",
    "get_party_at_ECL(ECL=9, monster_db=df)"
   ]
  },
  {
   "cell_type": "code",
   "execution_count": null,
   "metadata": {},
   "outputs": [],
   "source": [
    "\"\"\"\n",
    "Here we create the randomly sampled database of encounters per level \n",
    "\n",
    "\"\"\"\n",
    "\n",
    "party_levels = np.arange(1, 21, 1)\n",
    "\n",
    "level_dfs = []\n",
    "\n",
    "for level in party_levels:\n",
    "    \n",
    "    level_df = pd.DataFrame()\n",
    "    \n",
    "    for i in np.arange(1000):\n",
    "        level_df = pd.concat([level_df, pd.DataFrame(get_party_at_ECL(ECL=level, monster_db=df))])\n",
    "        \n",
    "    level_dfs.append(level_df)\n",
    "    "
   ]
  },
  {
   "cell_type": "code",
   "execution_count": null,
   "metadata": {},
   "outputs": [],
   "source": [
    "avg_ac = np.array([level['ac'].mean() for level in level_dfs])\n",
    "sem_ac = np.array([level['ac'].sem() for level in level_dfs])\n",
    "\n",
    "fig, ax = plt.subplots(figsize=(9, 7))\n",
    "\n",
    "ax.errorbar(x=party_levels, y=avg_ac, yerr=sem_ac*5, alpha=0.5, color='Purple', capsize=5)\n",
    "\n",
    "ax.set_xlim(0, 21)\n",
    "ax.set_xticks(party_levels)\n",
    "\n",
    "ax.set_ylim(13, 18)\n",
    "\n",
    "ax.set_ylabel('Average Armor Class', fontsize=15)\n",
    "ax.set_xlabel('Party Level', fontsize=15)\n",
    "\n",
    "\"\"\"\n",
    "This plot was created by randomly sampling 1000 encounters per party level to produce\n",
    "a sub-database of Armor Classes. These ACs are then average and the 5 sigma SEM is\n",
    "calculated (thus producing the error bars).\n",
    "\"\"\"\n",
    "''"
   ]
  },
  {
   "cell_type": "markdown",
   "metadata": {},
   "source": [
    "# Probability to beat the AC\n",
    "\n",
    "To calculate the probability to beat an AC we need the following information:\n",
    "\n",
    "1. The [attack modifier the player will use](http://www.d20srd.org/srd/combat/combatStatistics.htm#attackBonus)\n",
    "2. The average AC that the player will encounter\n",
    "\n",
    "For a single attack a player rolls a 20-sided die and adds the attack modifier, if its equal or higher to the AC, you hit. If the number on the die is equal to or higher than the minimum threat range, you have have threatened a critical. A subsequent role will determine if the critical threat succeeds. For a 20 sided die, to roll any one side the probability is 1/20. Thus for a longsword whose critical threat range is 19-20 then the probability to threaten is 1/10. If the player has an attack modifier of +6 and the monster they attack has an AC of 12 than the probability of successfully critically damaging is:\n",
    "\n",
    "$$P(crit success) = P(roll 19 or 20) * P(roll >= AC)$$\n",
    "\n",
    "Where\n",
    "\n",
    "$$P(roll >= AC) = 1 - (AC - modifier)/20$$\n",
    "\n",
    "Thus\n",
    "\n",
    "$$P(crit success) = 2/20 * [1 - (12 - 6)/20] = 2/20 * (1 - 6/20) = 0.07$$\n",
    "\n",
    "Doing this for the range of attack modifiers between +1 and +20 produces the below plot for a single attack.\n",
    "\n",
    "Assuming your base attack bonus is at least +6, you get an extra attacks for full round attacks. Thus the probability for these full round actions of a single successsful critical occurs changes. Because each attack is independent from each other attack we will combine the probabilities. This will produce the probability per round (or density) of a successful critical occurring.\n",
    "\n",
    "$$P(crit success) = P(roll_1 19 or 20) * P(roll_1 >= AC) * P(roll_2 19 or 20) * P(roll_2 >= AC)$$\n",
    "\n",
    "Where\n",
    "\n",
    "$$P(roll_1 >= AC) = 1 -(AC - modifier_1)/20 = 1 - (12 - 6)/20 = 0.7$$\n",
    "\n",
    "and\n",
    "\n",
    "$$P(roll_2 >= AC) = 1 - (AC - modifier_2)/20 = 1 - (12 - 1)/20 = 0.45$$\n",
    "\n",
    "Thus\n",
    "\n",
    "$$P(crit success) = 2/20 * 0.7 + 2/20 * 0.45 = 0.1145$$\n",
    "\n",
    "As we can see, the more you attack the more liekly you are to have a critical success."
   ]
  },
  {
   "cell_type": "code",
   "execution_count": null,
   "metadata": {},
   "outputs": [],
   "source": [
    "probability_of_threats = (np.abs(np.arange(15, 21, 1)-20)+1)/20 # for threat ranges of 15-20 to 20\n",
    "\n",
    "average_modifier = np.arange(0, 20, 1) # assuming a stat of 10 or 11 for STR or DEX\n",
    "\n",
    "probability_to_beat_ac = 1 - (avg_ac - average_modifier)/20"
   ]
  },
  {
   "cell_type": "code",
   "execution_count": null,
   "metadata": {},
   "outputs": [],
   "source": [
    "fig, ax = plt.subplots(figsize=(9, 7))\n",
    "\n",
    "ax.plot(party_levels, probability_to_beat_ac*0.3, label='15-20', linewidth=3)\n",
    "ax.fill_between(x=party_levels, y1=probability_to_beat_ac*0.3-sem_ac, y2=probability_to_beat_ac*0.3+sem_ac, label=None, linewidth=3, alpha=0.3)\n",
    "\n",
    "# ax.plot(party_levels, probability_to_beat_ac*0.25, label='16-20', linewidth=3, linestyle='--')\n",
    "\n",
    "ax.plot(party_levels, probability_to_beat_ac*0.2, label='17-20', linewidth=3)\n",
    "ax.fill_between(x=party_levels, y1=probability_to_beat_ac*0.2-sem_ac, y2=probability_to_beat_ac*0.2+sem_ac, label=None, linewidth=3, alpha=0.3)\n",
    "\n",
    "# ax.plot(party_levels, probability_to_beat_ac*0.15, label='18-20', linewidth=3, linestyle='--')\n",
    "\n",
    "ax.plot(party_levels, probability_to_beat_ac*0.1, label='19-20', linewidth=3)\n",
    "ax.fill_between(x=party_levels, y1=probability_to_beat_ac*0.1-sem_ac, y2=probability_to_beat_ac*0.1+sem_ac, label=None, linewidth=3, alpha=0.3)\n",
    "\n",
    "ax.plot(party_levels, probability_to_beat_ac*0.05, label='20 (default)', linewidth=3, linestyle='--', color='black', zorder=0)\n",
    "ax.fill_between(x=party_levels, y1=probability_to_beat_ac*0.05-sem_ac, y2=probability_to_beat_ac*0.05+sem_ac, label=None, linewidth=3, alpha=0.3, color='black', zorder=0)\n",
    "\n",
    "leg = ax.legend(fontsize=15)\n",
    "leg.set_title('Critical Threat Range',prop={'size':15})\n",
    "ax.set_ylabel('Joint probability to roll a critical\\nand successfully check', fontsize=15)\n",
    "ax.set_xlabel('Attack Ability Modifier', fontsize=15)\n",
    "\n",
    "ax.set_xticks(party_levels)\n",
    "ax.set_ylim(0, 0.4)\n",
    "ax.set_title('A single attack at full attack', fontsize=15)"
   ]
  },
  {
   "cell_type": "code",
   "execution_count": null,
   "metadata": {},
   "outputs": [],
   "source": [
    "fig, ax = plt.subplots(1, 2, figsize=(10, 5), sharey=True, sharex=True)\n",
    "\n",
    "ax[0].set_title('single attack')\n",
    "ax[1].set_title('full round attack')\n",
    "\n",
    "ax[0].plot(party_levels, probability_to_beat_ac*0.3, label='15-20', linewidth=3)\n",
    "ax[0].fill_between(x=party_levels, y1=probability_to_beat_ac*0.3-sem_ac, y2=probability_to_beat_ac*0.3+sem_ac, label=None, linewidth=3, alpha=0.3)\n",
    "\n",
    "ax[0].plot(party_levels, probability_to_beat_ac*0.05, label='20 (default)', linewidth=3, linestyle='--', color='black', zorder=0)\n",
    "ax[0].fill_between(x=party_levels, y1=probability_to_beat_ac*0.05-sem_ac, y2=probability_to_beat_ac*0.05+sem_ac, label=None, linewidth=3, alpha=0.3, color='black', zorder=0)\n",
    "\n",
    "def full_round_attack(attack_modifier, threat_range):\n",
    "    if attack_modifier < 6:\n",
    "        return probability_to_beat_ac[attack_modifier]*threat_range + probability_to_beat_ac[attack_modifier]*threat_range\n",
    "    elif attack_modifier >= 6 and attack_modifier < 11:\n",
    "        return probability_to_beat_ac[attack_modifier]*threat_range + probability_to_beat_ac[attack_modifier]*threat_range + probability_to_beat_ac[attack_modifier-5]*threat_range\n",
    "    elif attack_modifier >= 11 and attack_modifier < 16:\n",
    "        return probability_to_beat_ac[attack_modifier]*threat_range + probability_to_beat_ac[attack_modifier]*threat_range  + probability_to_beat_ac[attack_modifier-5]*threat_range + probability_to_beat_ac[attack_modifier-10]*threat_range\n",
    "    else:\n",
    "        return probability_to_beat_ac[attack_modifier]*threat_range + probability_to_beat_ac[attack_modifier]*threat_range + probability_to_beat_ac[attack_modifier-5]*threat_range+ probability_to_beat_ac[attack_modifier-10]*threat_range+ probability_to_beat_ac[attack_modifier-15]*threat_range\n",
    "\n",
    "full_round_1520 = [full_round_attack(a, 0.3) for a in np.arange(0, 20, 1)]       \n",
    "full_round_20 = [full_round_attack(a, 0.05) for a in np.arange(0, 20, 1)]       \n",
    "  \n",
    "ax[1].plot(party_levels, full_round_1520, label='15-20', linewidth=3)\n",
    "ax[1].fill_between(party_levels, full_round_1520-sem_ac, full_round_1520+sem_ac, alpha=0.5)\n",
    "\n",
    "ax[1].plot(party_levels, full_round_20, label='20', linewidth=3, color='black', linestyle='--')\n",
    "ax[1].fill_between(party_levels, full_round_20-sem_ac, full_round_20+sem_ac, alpha=0.5, color='black')\n",
    "\n",
    "leg = ax[0].legend(fontsize=15)\n",
    "leg.set_title('Critical Threat Range',prop={'size':15})\n",
    "\n",
    "ax[0].set_ylabel('Probability of successful critical')\n",
    "fig.text(s='Attack Bonus', x=0.45, y=-0.02, fontsize=15)\n",
    "\n",
    "ax[0].set_xticks(np.arange(0, 21, 1))\n",
    "fig.tight_layout()"
   ]
  },
  {
   "cell_type": "code",
   "execution_count": null,
   "metadata": {},
   "outputs": [],
   "source": [
    "\n",
    "p = probability_to_beat_ac[13-2]*0.1 + probability_to_beat_ac[13-2]*0.1 + probability_to_beat_ac[7-2]*0.1 + probability_to_beat_ac[7-5]*0.1 \n",
    "\n",
    "print('probability for ulrik von bek to have one successful critical strike in one round:', p)"
   ]
  },
  {
   "cell_type": "code",
   "execution_count": null,
   "metadata": {},
   "outputs": [],
   "source": [
    "\n",
    "p = probability_to_beat_ac[13-2]*0.15 + probability_to_beat_ac[13-2]*0.15 + probability_to_beat_ac[7-2]*0.15 + probability_to_beat_ac[7-5]*0.15 \n",
    "\n",
    "print('probability for ulrik von bek to have one successful critical strike in one round:', p)"
   ]
  },
  {
   "cell_type": "markdown",
   "metadata": {},
   "source": [
    "# How was this final plot created from start to finish?\n",
    "\n",
    "The process to create this plot is hopefully evident from the code itself, however, I will break it down here.\n",
    "\n",
    "1. Data from [d20SRD monster database](http://www.d20srd.org/indexes/monsters.htm) was scraped and processed to produce a collection of armor classes\n",
    "2. Using the challenge ratings of the creatures, we calculuate encounter levels of 1000 separate encounters and put them into a dataframe for encounter levels 1 through 20\n",
    "3. This allows us to produce average ACs to calculate the second probability of success\n",
    "4. Calculating the joint probability of successfully rolling a critical ( P(roll within critical threat range) * P(succeeding against average AC) )\n",
    "5. Plot is produced\n",
    "\n",
    "# What results can we derive from this analysis?\n",
    "\n",
    "Obviously, the best way to increase your chances of rolling a successful critical is by increasing the critical threat range of your weapon. It's also apparent that successfully rolling a critical strike is much smaller than the probability of simply rolling in the critical threat range and the only way to increase this is to increase the attack ability modifier. To increase the critical threat range you have several options.\n",
    "\n",
    "You can do this by using the [keen spell](http://www.d20srd.org/srd/spells/keenEdge.htm), by taking the feat [Improved Critical](http://www.d20srd.org/srd/feats.htm#improvedCritical), or by using a magical weapon with the [keen ability](http://www.d20srd.org/srd/magicItems/magicWeapons.htm#keen). Unfortunately none of these stack so all things being equal, the best choice is to take Improved Critical (which requires a base attack bonus of +8).\n",
    "\n",
    "Beyond using weapons with magical damage, increasing your ability to successfully roll critical threats is good way to deal more damage. Additionally, the more times you get to roll, the higher the likelihood that you will successfully roll a critical threat.\n",
    "\n",
    "Additionally, this shows that [vorpal weapons](http://www.d20srd.org/srd/magicItems/magicWeapons.htm#vorpal) are basically useless because they require a natural 20 thus the maximum joint probability can never be much more than 5% (see the black line in the plot above). Thus the likelihood of a vorpal weapon striking true (and thus instantly killing an enemy by severing their head) is less than 1 in 20 attacks. This makes increasing your critical threat range even more enticing (compared to a vorpal sword) because of the [massive damage rules](http://www.d20srd.org/srd/combat/injuryandDeath.htm#massiveDamage). By maximizing critical damage you make it more likely to deal at least 50 points of damage in a single hit. I will add later the probability of doing 50 points of damage or more later.\n",
    "\n"
   ]
  },
  {
   "cell_type": "code",
   "execution_count": null,
   "metadata": {},
   "outputs": [],
   "source": []
  },
  {
   "cell_type": "code",
   "execution_count": null,
   "metadata": {},
   "outputs": [],
   "source": []
  }
 ],
 "metadata": {
  "kernelspec": {
   "display_name": "Python 3",
   "language": "python",
   "name": "python3"
  },
  "language_info": {
   "codemirror_mode": {
    "name": "ipython",
    "version": 3
   },
   "file_extension": ".py",
   "mimetype": "text/x-python",
   "name": "python",
   "nbconvert_exporter": "python",
   "pygments_lexer": "ipython3",
   "version": "3.6.9"
  }
 },
 "nbformat": 4,
 "nbformat_minor": 4
}
