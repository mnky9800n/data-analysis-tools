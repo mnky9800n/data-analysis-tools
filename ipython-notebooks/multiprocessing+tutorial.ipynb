{
 "cells": [
  {
   "cell_type": "markdown",
   "metadata": {},
   "source": [
    "# multiprocessing as simple as possible\n",
    "\n",
    " This is how you take your python and make it run on all your processors. Might turn the heat up.\n",
    "\n",
    "Some things to remember:\n",
    "\n",
    "1. `pool.map` wants a list of lists of parameters\n",
    "2. whatever function you are parallelizing needs to only accept a single list of parameters, note how i take the xyz vector and pull out the x, y, and zed\n",
    "3. this can get way more complicated but this is about showing how to parallelize things as simply as possible\n",
    "4. it is important to close the pool when you are completely done. Otherwise system resources can be taken up indefinitely.\n",
    "\n",
    "It is likely that you may be using this in the interactive interpreter since you are likely using this in a jupyter notebook. Therefore I recommend using `multiprocess` instead of `multiprocessing`.\n",
    "\n",
    "see this stackoverflow post: https://stackoverflow.com/questions/41385708/multiprocessing-example-giving-attributeerror/42383397\n",
    "\n",
    "you can do this via the following line:"
   ]
  },
  {
   "cell_type": "code",
   "execution_count": 1,
   "metadata": {},
   "outputs": [
    {
     "name": "stdout",
     "output_type": "stream",
     "text": [
      "Requirement already satisfied: multiprocess in /home/john/anaconda3/envs/borehole/lib/python3.8/site-packages (0.70.13)\n",
      "Requirement already satisfied: dill>=0.3.5.1 in /home/john/anaconda3/envs/borehole/lib/python3.8/site-packages (from multiprocess) (0.3.5.1)\n",
      "\u001b[33mWARNING: You are using pip version 22.0.4; however, version 22.2.1 is available.\n",
      "You should consider upgrading via the '/home/john/anaconda3/envs/borehole/bin/python3.8 -m pip install --upgrade pip' command.\u001b[0m\u001b[33m\n",
      "\u001b[0m"
     ]
    }
   ],
   "source": [
    "!pip install multiprocess"
   ]
  },
  {
   "cell_type": "code",
   "execution_count": 2,
   "metadata": {},
   "outputs": [],
   "source": [
    "%matplotlib inline\n",
    "from multiprocessing import Pool\n",
    "# from multiprocess import Pool\n",
    "import numpy as np\n",
    "\n",
    "def calculate_magnitude_of_vector(my_xyz_vector):\n",
    "    \"\"\"\n",
    "    or is it ijk?\n",
    "    \"\"\"\n",
    "    x, y, z = my_xyz_vector\n",
    "    return np.sqrt(x**2 + y**2 + z**2)"
   ]
  },
  {
   "cell_type": "code",
   "execution_count": 3,
   "metadata": {},
   "outputs": [],
   "source": [
    "pool = Pool()"
   ]
  },
  {
   "cell_type": "code",
   "execution_count": 4,
   "metadata": {},
   "outputs": [],
   "source": [
    "my_vectors = [(1, 2, 3)\n",
    "             ,(4, 3, 2)\n",
    "             ,(1, 4, 6)\n",
    "             ,(9, 4, 4)]"
   ]
  },
  {
   "cell_type": "code",
   "execution_count": 5,
   "metadata": {},
   "outputs": [
    {
     "data": {
      "text/plain": [
       "[3.7416573867739413, 5.385164807134504, 7.280109889280518, 10.63014581273465]"
      ]
     },
     "execution_count": 5,
     "metadata": {},
     "output_type": "execute_result"
    }
   ],
   "source": [
    "pool.map(calculate_magnitude_of_vector, my_vectors)"
   ]
  },
  {
   "cell_type": "code",
   "execution_count": 6,
   "metadata": {},
   "outputs": [],
   "source": [
    "pool.close()"
   ]
  }
 ],
 "metadata": {
  "kernelspec": {
   "display_name": "Python 3",
   "language": "python",
   "name": "python3"
  },
  "language_info": {
   "codemirror_mode": {
    "name": "ipython",
    "version": 3
   },
   "file_extension": ".py",
   "mimetype": "text/x-python",
   "name": "python",
   "nbconvert_exporter": "python",
   "pygments_lexer": "ipython3",
   "version": "3.7.10"
  }
 },
 "nbformat": 4,
 "nbformat_minor": 4
}
