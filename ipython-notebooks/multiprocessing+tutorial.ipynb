{
 "cells": [
  {
   "cell_type": "markdown",
   "metadata": {},
   "source": [
    "# multiprocessing as simple as possible\n",
    "\n",
    "Some things to remember:\n",
    "\n",
    "1. `pool.map` wants a list of lists of parameters\n",
    "2. whatever function you are parallelizing needs to only accept a single list of parameters, note how i take the xyz vector and pull out the x, y, and zed\n",
    "3. this can get way more complicated but this is about showing how to parallelize things as simply as possible"
   ]
  },
  {
   "cell_type": "code",
   "execution_count": 1,
   "metadata": {
    "collapsed": true
   },
   "outputs": [],
   "source": [
    "%matplotlib inline\n",
    "from multiprocessing import Pool\n",
    "import numpy as np\n",
    "\n",
    "def calculate_magnitude_of_vector(my_xyz_vector):\n",
    "    \"\"\"\n",
    "    or is it ijk?\n",
    "    \"\"\"\n",
    "    x, y, z = my_xyz_vector\n",
    "    return np.sqrt(x**2 + y**2 + z**2)"
   ]
  },
  {
   "cell_type": "code",
   "execution_count": 2,
   "metadata": {},
   "outputs": [],
   "source": [
    "pool = Pool()"
   ]
  },
  {
   "cell_type": "code",
   "execution_count": 3,
   "metadata": {
    "collapsed": true
   },
   "outputs": [],
   "source": [
    "my_vectors = [(1, 2, 3)\n",
    "             ,(4, 3, 2)\n",
    "             ,(1, 4, 6)\n",
    "             ,(9, 4, 4)]"
   ]
  },
  {
   "cell_type": "code",
   "execution_count": 4,
   "metadata": {},
   "outputs": [
    {
     "data": {
      "text/plain": [
       "[3.7416573867739413, 5.3851648071345037, 7.2801098892805181, 10.63014581273465]"
      ]
     },
     "execution_count": 4,
     "metadata": {},
     "output_type": "execute_result"
    }
   ],
   "source": [
    "pool.map(calculate_magnitude_of_vector, my_vectors)"
   ]
  }
 ],
 "metadata": {
  "kernelspec": {
   "display_name": "Python 3",
   "language": "python",
   "name": "python3"
  },
  "language_info": {
   "codemirror_mode": {
    "name": "ipython",
    "version": 3
   },
   "file_extension": ".py",
   "mimetype": "text/x-python",
   "name": "python",
   "nbconvert_exporter": "python",
   "pygments_lexer": "ipython3",
   "version": "3.5.3"
  }
 },
 "nbformat": 4,
 "nbformat_minor": 2
}
