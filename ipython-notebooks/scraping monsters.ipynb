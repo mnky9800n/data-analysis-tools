{
 "cells": [
  {
   "cell_type": "markdown",
   "metadata": {},
   "source": [
    "# Scraping monsters and anticipating ACs to estimate critical threat probabilities\n",
    "\n",
    "In d&d 3.5e, rolling a \"critical\" is an exciting event. You get to do extra damage to the monsters you are fighting and everyone always is rather excited to roll high when it happens. While the traditional critical happens when you roll 20 on the 20 sided die, some weapons have a larger range. Calculating the probability of rolling a number in this range is fairly straightforward:\n",
    "\n",
    "| critical threat range | probability |\n",
    "|-----------------------|-------------|\n",
    "| 20                    | 0.05        |\n",
    "| 19-20                 | 0.10        |\n",
    "| 18-20                 | 0.15        |\n",
    "\n",
    "Basically, the more sides of a die, the more increments of 0.05 you get in probability. While this step is straightforward, actually succeeding and thus causing critical damage is more complex.\n",
    "\n",
    "After your first successful critical roll you must again roll against the [Armor Class (AC)](http://www.d20srd.org/srd/combat/combatStatistics.htm) of the creature you are attacking. This produces an unknown since we typically do not know the AC of the creature we are attacking (the information is hidden by the dungeon master). Thus it becomes difficult to antipate the probability of successfully checking your critical. This notebook stands to provide some insight into these probabilities.\n",
    "\n",
    "The goal of this notebook is to do the following:\n",
    "\n",
    "1. scrape all the stats of monsters on the [d&d 3.5e SRD](https://d20srd.org)\n",
    "2. Calculate the average/distribution of ACs of monsters that sum to appropriate [encounter levels](http://www.d20srd.org/srd/monsters/intro.htm#challengeRating) for parties level 1-20\n",
    "3. Calculate the probabilities of critical threats based on different critical threat ranges for each party level based on the established distribution of ACs\n",
    "\n",
    "## What are Encounter Levels?\n",
    "\n",
    "Encounter levels are an inaccurate measurement of how difficult a battle will be for a party of level X. A 4th level party (i.e., all the party members are level 4 characters) fighting a battle of Encounter level 4 should have a reasonable amount of difficulty in the encounter. Greater than 4 its more difficult, less than 4 it is more easy. I say this is \"inaccurate\" because ultimately there are many things that go into whether an encounter is difficult or easy (feats and abilities, magic items the party possesses, etc.). But basically, it's all we got to generate a list of monsters suitable to fight a specific party. To generate an encounter level we sum the challenge ratings of the monsters the party is fighting. So if a zombie has a Challenge rating  of 1/2 and we have a level 4 party, they should fight 8 zombies to provide an adequate challenge.\n",
    "\n",
    "## Caveats\n",
    "\n",
    "1. Currently, if there is more than one table describing a monster in the monster description, only the first table is included, this will probably bias the monster statistics negatively since it typically shows the least powerful monster first"
   ]
  },
  {
   "cell_type": "code",
   "execution_count": 158,
   "metadata": {},
   "outputs": [],
   "source": [
    "%matplotlib inline\n",
    "\n",
    "import bs4 as bs\n",
    "import urllib.request\n",
    "import pandas as pd\n",
    "import matplotlib.pyplot as plt\n",
    "import numpy as np"
   ]
  },
  {
   "cell_type": "markdown",
   "metadata": {},
   "source": [
    "This pulls the list of links from the srd website for all the monsters. They are formatted in 'columns' right now the code beneath only looks at the first column (`monster_cols[0]`) but this can be changed with a simple for loop"
   ]
  },
  {
   "cell_type": "code",
   "execution_count": 2,
   "metadata": {},
   "outputs": [],
   "source": [
    "source = urllib.request.urlopen('http://www.d20srd.org/indexes/monsters.htm').read()\n",
    "soup = bs.BeautifulSoup(source,'lxml')\n",
    "monster_cols = soup.findAll('ul', {'class':'column'})"
   ]
  },
  {
   "cell_type": "markdown",
   "metadata": {},
   "source": [
    "Some of the links here have sub links, thus we split on the '#' and then remove the duplicates with the list/set combo. We are probably losing some of the creatures since there is sometimes creatures that are coming in different strengths and weaknesses but thats fine for now."
   ]
  },
  {
   "cell_type": "code",
   "execution_count": 37,
   "metadata": {},
   "outputs": [
    {
     "name": "stdout",
     "output_type": "stream",
     "text": [
      "number of monsters: 248\n"
     ]
    }
   ],
   "source": [
    "parsed_links = []\n",
    "\n",
    "for col in monster_cols:\n",
    "    links = col.findAll('a', href=True)\n",
    "#     links = monster_cols[0].findAll('a', href=True)\n",
    "    for link in links:\n",
    "        beginning = 'http://www.d20srd.org'\n",
    "        link = beginning + link['href'].split('#')[0]\n",
    "        parsed_links.append(link)\n",
    "\n",
    "parsed_links = list(set(parsed_links))\n",
    "print('number of monsters:', len(parsed_links))"
   ]
  },
  {
   "cell_type": "markdown",
   "metadata": {},
   "source": [
    "Here we take out all of the data in the statBlocks and turn it into data that will fit into a pandas dataframe. Note the comment in the try/except block. There will need to be more parsing of data done before its in a format that lends itself to statistics, but getting all the data into a tabulated format is important first, then we can tease apart the rest."
   ]
  },
  {
   "cell_type": "code",
   "execution_count": 38,
   "metadata": {},
   "outputs": [
    {
     "name": "stdout",
     "output_type": "stream",
     "text": [
      "df row 247 appended . . .\n"
     ]
    }
   ],
   "source": [
    "from IPython.display import clear_output\n",
    "\n",
    "errors = []\n",
    "data_length = []\n",
    "for i, link in enumerate(parsed_links):\n",
    "    if i % 3:\n",
    "        clear_output()\n",
    "    source = urllib.request.urlopen(link).read()\n",
    "    soup = bs.BeautifulSoup(source, 'lxml')\n",
    "    table = soup.findAll('table', {'class': 'statBlock'})\n",
    "    try:\n",
    "        table_rows = table[0].findAll('tr')\n",
    "        rows = []\n",
    "        for tr in table_rows:\n",
    "            rows.append(tr.text)\n",
    "\n",
    "        data = []\n",
    "        data.append(['Link', link])\n",
    "        for row in rows:\n",
    "            data.append(row.split('\\n')[1:3])\n",
    "#             row = row.replace('\\n', '').split(':')\n",
    "#             if len(row) == 1:\n",
    "#                 row = ['Title', row]\n",
    "#             else:\n",
    "#                 data.append(row)\n",
    "\n",
    "        if 'df' not in locals():\n",
    "            print('df created . . .')\n",
    "            df = pd.DataFrame()\n",
    "            df = pd.concat([df, pd.DataFrame(dict(data), index=(i,))])\n",
    "        else:\n",
    "            df = pd.concat([df, pd.DataFrame(dict(data), index=(i,))], sort=False)\n",
    "            print('df row {n} appended . . .'.format(n=i))\n",
    "        errors.append(0)\n",
    "        data_length.append(len(data))\n",
    "\n",
    "    except IndexError:\n",
    "        \"\"\"\n",
    "        The exceptions here are okay because they are excepting out data\n",
    "        that isn't appearing in the format. That is there is no statBlock\n",
    "        data in the links being searched so they are excepted out.\n",
    "        \"\"\"\n",
    "        errors.append(1)\n",
    "        data_length.append(len(data))\n",
    "\n",
    "        \n",
    "error_analysis = pd.DataFrame({'errors':errors, 'data_length':data_length, 'links':parsed_links})"
   ]
  },
  {
   "cell_type": "code",
   "execution_count": 39,
   "metadata": {},
   "outputs": [
    {
     "data": {
      "text/html": [
       "<div>\n",
       "<style scoped>\n",
       "    .dataframe tbody tr th:only-of-type {\n",
       "        vertical-align: middle;\n",
       "    }\n",
       "\n",
       "    .dataframe tbody tr th {\n",
       "        vertical-align: top;\n",
       "    }\n",
       "\n",
       "    .dataframe thead th {\n",
       "        text-align: right;\n",
       "    }\n",
       "</style>\n",
       "<table border=\"1\" class=\"dataframe\">\n",
       "  <thead>\n",
       "    <tr style=\"text-align: right;\">\n",
       "      <th></th>\n",
       "      <th>errors</th>\n",
       "      <th>data_length</th>\n",
       "      <th>links</th>\n",
       "    </tr>\n",
       "  </thead>\n",
       "  <tbody>\n",
       "    <tr>\n",
       "      <th>7</th>\n",
       "      <td>1</td>\n",
       "      <td>9</td>\n",
       "      <td>http://www.d20srd.org/srd/monsters/halfFiend.htm</td>\n",
       "    </tr>\n",
       "    <tr>\n",
       "      <th>31</th>\n",
       "      <td>1</td>\n",
       "      <td>21</td>\n",
       "      <td>http://www.d20srd.org/srd/monsters/ghost.htm</td>\n",
       "    </tr>\n",
       "    <tr>\n",
       "      <th>85</th>\n",
       "      <td>1</td>\n",
       "      <td>23</td>\n",
       "      <td>http://www.d20srd.org/srd/monsters/celestialCr...</td>\n",
       "    </tr>\n",
       "    <tr>\n",
       "      <th>135</th>\n",
       "      <td>1</td>\n",
       "      <td>23</td>\n",
       "      <td>http://www.d20srd.org/srd/monsters/lich.htm</td>\n",
       "    </tr>\n",
       "    <tr>\n",
       "      <th>143</th>\n",
       "      <td>1</td>\n",
       "      <td>21</td>\n",
       "      <td>http://www.d20srd.org/srd/monsters/direAnimal.htm</td>\n",
       "    </tr>\n",
       "    <tr>\n",
       "      <th>224</th>\n",
       "      <td>1</td>\n",
       "      <td>24</td>\n",
       "      <td>http://www.d20srd.org/srd/monsters/halfDragon.htm</td>\n",
       "    </tr>\n",
       "    <tr>\n",
       "      <th>234</th>\n",
       "      <td>1</td>\n",
       "      <td>23</td>\n",
       "      <td>http://www.d20srd.org/srd/monsters/fiendishCre...</td>\n",
       "    </tr>\n",
       "    <tr>\n",
       "      <th>240</th>\n",
       "      <td>1</td>\n",
       "      <td>23</td>\n",
       "      <td>http://www.d20srd.org/srd/monsters/halfCelesti...</td>\n",
       "    </tr>\n",
       "  </tbody>\n",
       "</table>\n",
       "</div>"
      ],
      "text/plain": [
       "     errors  data_length                                              links\n",
       "7         1            9   http://www.d20srd.org/srd/monsters/halfFiend.htm\n",
       "31        1           21       http://www.d20srd.org/srd/monsters/ghost.htm\n",
       "85        1           23  http://www.d20srd.org/srd/monsters/celestialCr...\n",
       "135       1           23        http://www.d20srd.org/srd/monsters/lich.htm\n",
       "143       1           21  http://www.d20srd.org/srd/monsters/direAnimal.htm\n",
       "224       1           24  http://www.d20srd.org/srd/monsters/halfDragon.htm\n",
       "234       1           23  http://www.d20srd.org/srd/monsters/fiendishCre...\n",
       "240       1           23  http://www.d20srd.org/srd/monsters/halfCelesti..."
      ]
     },
     "execution_count": 39,
     "metadata": {},
     "output_type": "execute_result"
    }
   ],
   "source": [
    "\"\"\"\n",
    "all of these are monster pages that do not have any monster statistics blocks\n",
    "in them\n",
    "\"\"\"\n",
    "\n",
    "error_analysis[error_analysis.errors > 0]"
   ]
  },
  {
   "cell_type": "code",
   "execution_count": 75,
   "metadata": {},
   "outputs": [],
   "source": [
    "\"\"\"\n",
    "There may be some duplicates here, lets get rid of them\n",
    "\n",
    "Also, since we care so much about AC, rows with NaN ACs are \n",
    "useless. drop them too.\n",
    "\n",
    "TODO: inspect the input data so there is no duplicates anymore\n",
    "\"\"\"\n",
    "\n",
    "df.drop_duplicates(inplace=True)\n",
    "df = df[~df['Armor Class:'].isnull()].copy()"
   ]
  },
  {
   "cell_type": "code",
   "execution_count": 76,
   "metadata": {},
   "outputs": [],
   "source": [
    "df.columns = ['Link', 'Title', 'Size/Type:', 'Hit Dice:', 'Initiative:', 'Speed:',\n",
    "       'Armor Class:', 'Base Attack/Grapple:', 'Attack:', 'Full Attack:',\n",
    "       'Space/Reach:', 'Special Attacks:', 'Special Qualities:', 'Saves:',\n",
    "       'Abilities:', 'Skills:', 'Feats:', 'Environment:', 'Organization:',\n",
    "       'Challenge Rating:', 'Treasure:', 'Alignment:', 'Advancement:',\n",
    "       'Level Adjustment:', 'Type:']"
   ]
  },
  {
   "cell_type": "code",
   "execution_count": 77,
   "metadata": {},
   "outputs": [],
   "source": [
    "df['Title'] = df.Link.apply(lambda row: row.split('/')[-1].split('.')[0])"
   ]
  },
  {
   "cell_type": "code",
   "execution_count": 78,
   "metadata": {},
   "outputs": [
    {
     "data": {
      "text/plain": [
       "(239, 25)"
      ]
     },
     "execution_count": 78,
     "metadata": {},
     "output_type": "execute_result"
    }
   ],
   "source": [
    "df.shape"
   ]
  },
  {
   "cell_type": "markdown",
   "metadata": {},
   "source": [
    "Thus the raw data is parsed and we now have stats for 240 monsters \n"
   ]
  },
  {
   "cell_type": "code",
   "execution_count": 79,
   "metadata": {},
   "outputs": [
    {
     "data": {
      "text/html": [
       "<div>\n",
       "<style scoped>\n",
       "    .dataframe tbody tr th:only-of-type {\n",
       "        vertical-align: middle;\n",
       "    }\n",
       "\n",
       "    .dataframe tbody tr th {\n",
       "        vertical-align: top;\n",
       "    }\n",
       "\n",
       "    .dataframe thead th {\n",
       "        text-align: right;\n",
       "    }\n",
       "</style>\n",
       "<table border=\"1\" class=\"dataframe\">\n",
       "  <thead>\n",
       "    <tr style=\"text-align: right;\">\n",
       "      <th></th>\n",
       "      <th>Link</th>\n",
       "      <th>Title</th>\n",
       "      <th>Size/Type:</th>\n",
       "      <th>Hit Dice:</th>\n",
       "      <th>Initiative:</th>\n",
       "      <th>Speed:</th>\n",
       "      <th>Armor Class:</th>\n",
       "      <th>Base Attack/Grapple:</th>\n",
       "      <th>Attack:</th>\n",
       "      <th>Full Attack:</th>\n",
       "      <th>...</th>\n",
       "      <th>Skills:</th>\n",
       "      <th>Feats:</th>\n",
       "      <th>Environment:</th>\n",
       "      <th>Organization:</th>\n",
       "      <th>Challenge Rating:</th>\n",
       "      <th>Treasure:</th>\n",
       "      <th>Alignment:</th>\n",
       "      <th>Advancement:</th>\n",
       "      <th>Level Adjustment:</th>\n",
       "      <th>Type:</th>\n",
       "    </tr>\n",
       "  </thead>\n",
       "  <tbody>\n",
       "    <tr>\n",
       "      <th>0</th>\n",
       "      <td>http://www.d20srd.org/srd/monsters/barghest.htm</td>\n",
       "      <td>barghest</td>\n",
       "      <td>Medium Outsider (Evil, Extraplanar, Lawful, Sh...</td>\n",
       "      <td>6d8+6 (33 hp)</td>\n",
       "      <td>+6</td>\n",
       "      <td>30 ft. (6 squares)</td>\n",
       "      <td>18 (+2 Dex, +6 natural), touch 12, flat-footed 16</td>\n",
       "      <td>+6/+9</td>\n",
       "      <td>Bite +9 melee (1d6+3))</td>\n",
       "      <td>Bite +9 melee (1d6+3) and 2 claws +4 melee (1d...</td>\n",
       "      <td>...</td>\n",
       "      <td>Bluff +11, Diplomacy +6, Disguise +2 (+4 actin...</td>\n",
       "      <td>Combat Reflexes, Improved Initiative, Track</td>\n",
       "      <td>An evil-aligned plane</td>\n",
       "      <td>Solitary or pack (3-6)</td>\n",
       "      <td>4</td>\n",
       "      <td>Double standard</td>\n",
       "      <td>Always lawful evil</td>\n",
       "      <td>Special (see below)</td>\n",
       "      <td>—</td>\n",
       "      <td>NaN</td>\n",
       "    </tr>\n",
       "    <tr>\n",
       "      <th>1</th>\n",
       "      <td>http://www.d20srd.org/srd/monsters/cockatrice.htm</td>\n",
       "      <td>cockatrice</td>\n",
       "      <td>Small Magical Beast</td>\n",
       "      <td>5d10 (27 hp)</td>\n",
       "      <td>+3</td>\n",
       "      <td>20 ft. (4 squares), fly 60 ft. (poor)</td>\n",
       "      <td>14 (+1 size, +3 Dex), touch 14, flat-footed 11</td>\n",
       "      <td>+5/-1</td>\n",
       "      <td>Bite +9 melee (1d4-2 plus petrification)</td>\n",
       "      <td>Bite +9 melee (1d4-2 plus petrification)</td>\n",
       "      <td>...</td>\n",
       "      <td>Listen +7, Spot +7</td>\n",
       "      <td>Alertness, Dodge, Weapon FinesseB</td>\n",
       "      <td>Temperate plains</td>\n",
       "      <td>Solitary, pair, flight (3-5), or flock (6-13)</td>\n",
       "      <td>3</td>\n",
       "      <td>None</td>\n",
       "      <td>Always neutral</td>\n",
       "      <td>6-8 HD (Small); 9-15 HD (Medium)</td>\n",
       "      <td>—</td>\n",
       "      <td>NaN</td>\n",
       "    </tr>\n",
       "    <tr>\n",
       "      <th>2</th>\n",
       "      <td>http://www.d20srd.org/srd/monsters/direShark.htm</td>\n",
       "      <td>direShark</td>\n",
       "      <td>Huge Animal (Aquatic)</td>\n",
       "      <td>18d8+66 (147 hp)</td>\n",
       "      <td>+2</td>\n",
       "      <td>Swim 60 ft. (12 squares)</td>\n",
       "      <td>17 (-2 size, +2 Dex, +7 natural), touch 10, fl...</td>\n",
       "      <td>+13/+27</td>\n",
       "      <td>Bite +18 melee (2d8+9)</td>\n",
       "      <td>Bite +18 melee (2d8+9)</td>\n",
       "      <td>...</td>\n",
       "      <td>Listen +12, Spot +11, Swim +14</td>\n",
       "      <td>Improved Natural Attack (bite), Toughness (4),...</td>\n",
       "      <td>Cold aquatic</td>\n",
       "      <td>Solitary or school (2-5)</td>\n",
       "      <td>9</td>\n",
       "      <td>None</td>\n",
       "      <td>Always neutral</td>\n",
       "      <td>19-32 (Huge); 33-54 (Gargantuan)</td>\n",
       "      <td>—</td>\n",
       "      <td>NaN</td>\n",
       "    </tr>\n",
       "    <tr>\n",
       "      <th>3</th>\n",
       "      <td>http://www.d20srd.org/srd/monsters/direWolveri...</td>\n",
       "      <td>direWolverine</td>\n",
       "      <td>Large Animal</td>\n",
       "      <td>5d8+23 (45 hp)</td>\n",
       "      <td>+3</td>\n",
       "      <td>30 ft. (6 squares), climb 10 ft.</td>\n",
       "      <td>16 (-1 size, +3 Dex, +4 natural), touch 12, fl...</td>\n",
       "      <td>+3/+13</td>\n",
       "      <td>Claw +8 melee (1d6+6)</td>\n",
       "      <td>2 claws +8 melee (1d6+6) and bite +3 melee (1d...</td>\n",
       "      <td>...</td>\n",
       "      <td>Climb +14, Listen +7, Spot +7</td>\n",
       "      <td>Alertness, Toughness, TrackB</td>\n",
       "      <td>Cold forests</td>\n",
       "      <td>Solitary or pair</td>\n",
       "      <td>4</td>\n",
       "      <td>None</td>\n",
       "      <td>Always neutral</td>\n",
       "      <td>6-15 HD (Large)</td>\n",
       "      <td>—</td>\n",
       "      <td>NaN</td>\n",
       "    </tr>\n",
       "    <tr>\n",
       "      <th>4</th>\n",
       "      <td>http://www.d20srd.org/srd/monsters/blinkDog.htm</td>\n",
       "      <td>blinkDog</td>\n",
       "      <td>Medium Magical Beast</td>\n",
       "      <td>4d10 (22 hp)</td>\n",
       "      <td>+3</td>\n",
       "      <td>40 ft. (8 squares)</td>\n",
       "      <td>16 (+3 Dex, +3 natural), touch 13, flat-footed 13</td>\n",
       "      <td>+4/+4</td>\n",
       "      <td>Bite +4 melee (1d6)</td>\n",
       "      <td>Bite +4 melee (1d6)</td>\n",
       "      <td>...</td>\n",
       "      <td>Hide +3, Listen +5, Sense Motive +3, Spot +5, ...</td>\n",
       "      <td>Iron Will, Run, TrackB</td>\n",
       "      <td>Temperate plains</td>\n",
       "      <td>Solitary, pair, or pack (7-16)</td>\n",
       "      <td>2</td>\n",
       "      <td>None</td>\n",
       "      <td>Usually lawful good</td>\n",
       "      <td>5-7 HD (Medium); 8-12 HD (Large)</td>\n",
       "      <td>+2 (cohort)</td>\n",
       "      <td>NaN</td>\n",
       "    </tr>\n",
       "  </tbody>\n",
       "</table>\n",
       "<p>5 rows × 25 columns</p>\n",
       "</div>"
      ],
      "text/plain": [
       "                                                Link          Title  \\\n",
       "0    http://www.d20srd.org/srd/monsters/barghest.htm       barghest   \n",
       "1  http://www.d20srd.org/srd/monsters/cockatrice.htm     cockatrice   \n",
       "2   http://www.d20srd.org/srd/monsters/direShark.htm      direShark   \n",
       "3  http://www.d20srd.org/srd/monsters/direWolveri...  direWolverine   \n",
       "4    http://www.d20srd.org/srd/monsters/blinkDog.htm       blinkDog   \n",
       "\n",
       "                                          Size/Type:         Hit Dice:  \\\n",
       "0  Medium Outsider (Evil, Extraplanar, Lawful, Sh...     6d8+6 (33 hp)   \n",
       "1                                Small Magical Beast      5d10 (27 hp)   \n",
       "2                              Huge Animal (Aquatic)  18d8+66 (147 hp)   \n",
       "3                                       Large Animal    5d8+23 (45 hp)   \n",
       "4                               Medium Magical Beast      4d10 (22 hp)   \n",
       "\n",
       "  Initiative:                                 Speed:  \\\n",
       "0          +6                     30 ft. (6 squares)   \n",
       "1          +3  20 ft. (4 squares), fly 60 ft. (poor)   \n",
       "2          +2               Swim 60 ft. (12 squares)   \n",
       "3          +3       30 ft. (6 squares), climb 10 ft.   \n",
       "4          +3                     40 ft. (8 squares)   \n",
       "\n",
       "                                        Armor Class: Base Attack/Grapple:  \\\n",
       "0  18 (+2 Dex, +6 natural), touch 12, flat-footed 16                +6/+9   \n",
       "1     14 (+1 size, +3 Dex), touch 14, flat-footed 11                +5/-1   \n",
       "2  17 (-2 size, +2 Dex, +7 natural), touch 10, fl...              +13/+27   \n",
       "3  16 (-1 size, +3 Dex, +4 natural), touch 12, fl...               +3/+13   \n",
       "4  16 (+3 Dex, +3 natural), touch 13, flat-footed 13                +4/+4   \n",
       "\n",
       "                                    Attack:  \\\n",
       "0                    Bite +9 melee (1d6+3))   \n",
       "1  Bite +9 melee (1d4-2 plus petrification)   \n",
       "2                    Bite +18 melee (2d8+9)   \n",
       "3                     Claw +8 melee (1d6+6)   \n",
       "4                       Bite +4 melee (1d6)   \n",
       "\n",
       "                                        Full Attack:  ...   \\\n",
       "0  Bite +9 melee (1d6+3) and 2 claws +4 melee (1d...  ...    \n",
       "1           Bite +9 melee (1d4-2 plus petrification)  ...    \n",
       "2                             Bite +18 melee (2d8+9)  ...    \n",
       "3  2 claws +8 melee (1d6+6) and bite +3 melee (1d...  ...    \n",
       "4                                Bite +4 melee (1d6)  ...    \n",
       "\n",
       "                                             Skills:  \\\n",
       "0  Bluff +11, Diplomacy +6, Disguise +2 (+4 actin...   \n",
       "1                                 Listen +7, Spot +7   \n",
       "2                     Listen +12, Spot +11, Swim +14   \n",
       "3                      Climb +14, Listen +7, Spot +7   \n",
       "4  Hide +3, Listen +5, Sense Motive +3, Spot +5, ...   \n",
       "\n",
       "                                              Feats:           Environment:  \\\n",
       "0        Combat Reflexes, Improved Initiative, Track  An evil-aligned plane   \n",
       "1                  Alertness, Dodge, Weapon FinesseB       Temperate plains   \n",
       "2  Improved Natural Attack (bite), Toughness (4),...           Cold aquatic   \n",
       "3                       Alertness, Toughness, TrackB           Cold forests   \n",
       "4                             Iron Will, Run, TrackB       Temperate plains   \n",
       "\n",
       "                                   Organization: Challenge Rating:  \\\n",
       "0                         Solitary or pack (3-6)                 4   \n",
       "1  Solitary, pair, flight (3-5), or flock (6-13)                 3   \n",
       "2                       Solitary or school (2-5)                 9   \n",
       "3                               Solitary or pair                 4   \n",
       "4                 Solitary, pair, or pack (7-16)                 2   \n",
       "\n",
       "         Treasure:           Alignment:                      Advancement:  \\\n",
       "0  Double standard   Always lawful evil               Special (see below)   \n",
       "1             None       Always neutral  6-8 HD (Small); 9-15 HD (Medium)   \n",
       "2             None       Always neutral  19-32 (Huge); 33-54 (Gargantuan)   \n",
       "3             None       Always neutral                   6-15 HD (Large)   \n",
       "4             None  Usually lawful good  5-7 HD (Medium); 8-12 HD (Large)   \n",
       "\n",
       "  Level Adjustment: Type:  \n",
       "0                 —   NaN  \n",
       "1                 —   NaN  \n",
       "2                 —   NaN  \n",
       "3                 —   NaN  \n",
       "4       +2 (cohort)   NaN  \n",
       "\n",
       "[5 rows x 25 columns]"
      ]
     },
     "execution_count": 79,
     "metadata": {},
     "output_type": "execute_result"
    }
   ],
   "source": [
    "df.head()"
   ]
  },
  {
   "cell_type": "code",
   "execution_count": 85,
   "metadata": {},
   "outputs": [],
   "source": [
    "\"\"\"\n",
    "Converting AC into integers helps with statistics\n",
    "\n",
    "This ignores touch AC or flat footed AC\n",
    "\"\"\"\n",
    "\n",
    "df['AC(int)'] = df['Armor Class:'].apply(lambda row: row.split(' ')[0]).astype(int)"
   ]
  },
  {
   "cell_type": "code",
   "execution_count": 109,
   "metadata": {},
   "outputs": [
    {
     "data": {
      "text/plain": [
       "['1', '6']"
      ]
     },
     "execution_count": 109,
     "metadata": {},
     "output_type": "execute_result"
    }
   ],
   "source": [
    "df['Challenge Rating:'].loc[213].split('/')"
   ]
  },
  {
   "cell_type": "code",
   "execution_count": 141,
   "metadata": {},
   "outputs": [],
   "source": [
    "\"\"\"\n",
    "Challenge ratings can be fractional (e.g., goblins are weak but often\n",
    "there are a lot of them). Thus we need a function that will convert the\n",
    "fractional strings into floats so we can do statistics.\n",
    "\n",
    "Additionally, there is some string handling that is done because sometimes\n",
    "there are \n",
    "\"\"\"\n",
    "\n",
    "def get_float_from_fraction_str(fraction):\n",
    "    fraction = fraction.split('/')\n",
    "    numerator = float(fraction[0])\n",
    "    denominator = float(fraction[1])\n",
    "    return numerator/denominator\n",
    "\n",
    "def convert_challenge_rating(CR):\n",
    "    CR_len = len(CR.split('/'))\n",
    "    if '/' in CR:\n",
    "        return get_float_from_fraction_str(CR)\n",
    "    elif ' ' in CR:\n",
    "        return CR.split(' ')[0]\n",
    "    else:\n",
    "        try:\n",
    "            return float(CR)\n",
    "        except ValueError:\n",
    "            import unicodedata\n",
    "            return unicodedata.numeric(CR)"
   ]
  },
  {
   "cell_type": "code",
   "execution_count": 142,
   "metadata": {},
   "outputs": [],
   "source": [
    "df['CR(float)'] = df['Challenge Rating:'].apply(convert_challenge_rating).astype(float)"
   ]
  },
  {
   "cell_type": "code",
   "execution_count": 143,
   "metadata": {},
   "outputs": [
    {
     "data": {
      "text/html": [
       "<div>\n",
       "<style scoped>\n",
       "    .dataframe tbody tr th:only-of-type {\n",
       "        vertical-align: middle;\n",
       "    }\n",
       "\n",
       "    .dataframe tbody tr th {\n",
       "        vertical-align: top;\n",
       "    }\n",
       "\n",
       "    .dataframe thead th {\n",
       "        text-align: right;\n",
       "    }\n",
       "</style>\n",
       "<table border=\"1\" class=\"dataframe\">\n",
       "  <thead>\n",
       "    <tr style=\"text-align: right;\">\n",
       "      <th></th>\n",
       "      <th>AC(int)</th>\n",
       "      <th>CR(float)</th>\n",
       "    </tr>\n",
       "  </thead>\n",
       "  <tbody>\n",
       "    <tr>\n",
       "      <th>count</th>\n",
       "      <td>239.000000</td>\n",
       "      <td>239.000000</td>\n",
       "    </tr>\n",
       "    <tr>\n",
       "      <th>mean</th>\n",
       "      <td>17.062762</td>\n",
       "      <td>4.217015</td>\n",
       "    </tr>\n",
       "    <tr>\n",
       "      <th>std</th>\n",
       "      <td>4.100655</td>\n",
       "      <td>3.642407</td>\n",
       "    </tr>\n",
       "    <tr>\n",
       "      <th>min</th>\n",
       "      <td>3.000000</td>\n",
       "      <td>0.100000</td>\n",
       "    </tr>\n",
       "    <tr>\n",
       "      <th>25%</th>\n",
       "      <td>15.000000</td>\n",
       "      <td>1.000000</td>\n",
       "    </tr>\n",
       "    <tr>\n",
       "      <th>50%</th>\n",
       "      <td>16.000000</td>\n",
       "      <td>3.000000</td>\n",
       "    </tr>\n",
       "    <tr>\n",
       "      <th>75%</th>\n",
       "      <td>18.000000</td>\n",
       "      <td>6.000000</td>\n",
       "    </tr>\n",
       "    <tr>\n",
       "      <th>max</th>\n",
       "      <td>38.000000</td>\n",
       "      <td>21.000000</td>\n",
       "    </tr>\n",
       "  </tbody>\n",
       "</table>\n",
       "</div>"
      ],
      "text/plain": [
       "          AC(int)   CR(float)\n",
       "count  239.000000  239.000000\n",
       "mean    17.062762    4.217015\n",
       "std      4.100655    3.642407\n",
       "min      3.000000    0.100000\n",
       "25%     15.000000    1.000000\n",
       "50%     16.000000    3.000000\n",
       "75%     18.000000    6.000000\n",
       "max     38.000000   21.000000"
      ]
     },
     "execution_count": 143,
     "metadata": {},
     "output_type": "execute_result"
    }
   ],
   "source": [
    "df[['AC(int)', 'CR(float)']].describe()"
   ]
  },
  {
   "cell_type": "code",
   "execution_count": 188,
   "metadata": {},
   "outputs": [
    {
     "data": {
      "text/plain": [
       "[<matplotlib.lines.Line2D at 0x7f9577194be0>]"
      ]
     },
     "execution_count": 188,
     "metadata": {},
     "output_type": "execute_result"
    },
    {
     "data": {
      "image/png": "[encoded data removed]",
      "text/plain": [
       "<matplotlib.figure.Figure at 0x7f9576c604e0>"
      ]
     },
     "metadata": {},
     "output_type": "display_data"
    },
    {
     "data": {
      "image/png": "[encoded data removed]",
      "text/plain": [
       "<matplotlib.figure.Figure at 0x7f9576c60668>"
      ]
     },
     "metadata": {},
     "output_type": "display_data"
    }
   ],
   "source": [
    "fig, (ax, ax2)= plt.subplots(1, 2, figsize=(10, 6), sharey=True)\n",
    "\n",
    "df['AC(int)'].hist(bins=np.arange(0, 41, 1), grid=False, ax=ax, color='green')\n",
    "df['CR(float)'].hist(bins=np.arange(0, 22, 1), grid=False, ax=ax2, color='Purple')\n",
    "\n",
    "ax.set_xlabel('Armor Class', fontsize=15)\n",
    "ax2.set_xlabel('Challenge Rating', fontsize=15)\n",
    "\n",
    "fig, ax3 = plt.subplots(figsize=(10, 7))\n",
    "\n",
    "ax3.scatter(x=df['CR(float)'].values, y=df['AC(int)'].values, alpha=0.5)\n",
    "ax3.set_xlabel('Challenge Rating', fontsize=15)\n",
    "ax3.set_ylabel('Armor Class', fontsize=15)\n",
    "\n",
    "ax4 = fig.add_axes([0.6, 0.2, 0.25, 0.3])\n",
    "ax4.scatter(x=df['CR(float)'].values, y=df['AC(int)'].values, alpha=0.5)\n",
    "ax4.set_xlim(0, 5)\n",
    "ax4.set_ylim(10, 20)\n",
    "ax4.set_ylabel('Armor Class', fontsize=12)\n",
    "ax4.set_xlabel('Challenge Rating', fontsize=12)\n",
    "\n",
    "p = np.poly1d(np.polyfit(x=df['CR(float)'].values, y=df['AC(int)'].values, deg=2))\n",
    "x = np.arange(0, 30, 0.1)\n",
    "y = p(x)\n",
    "ax3.plot(x, y, color='red', linewidth=3, alpha=0.5)\n",
    "ax4.plot(x, y, color='red', linewidth=3, alpha=0.5)\n",
    "\n",
    "\"\"\"\n",
    "As I expected, there is a somewhat linear relation between challenge rating\n",
    "and armor class, that is, as challenge rating goes up, so does armor class.\n",
    "\n",
    "Armor class seems to be roughly normally distributed, whereas challenge rating\n",
    "seems to be rougly poisson distributed.\n",
    "\"\"\""
   ]
  },
  {
   "cell_type": "markdown",
   "metadata": {},
   "source": [
    "Calculating the average AC for encounters that the party will encounter\n",
    "\n",
    "1. for each level party, assume that there are 4 players built exclusively\n",
    "from the SRD.\n",
    "\n",
    "2. build a sub database of monsters of the CR equal to the party and lower\n",
    "\n",
    "3. Bootstrap encounters from the sub database for the appropriate ECL\n",
    "\n",
    "4. Calculate average AC\n",
    "\n",
    "5. Calculate probability to crit successfully for attack modifiers +1 to +10\n"
   ]
  },
  {
   "cell_type": "code",
   "execution_count": 191,
   "metadata": {},
   "outputs": [],
   "source": [
    "AC_df = df[['Link', 'Title', 'AC(int)', 'CR(float)']].copy()"
   ]
  },
  {
   "cell_type": "code",
   "execution_count": 199,
   "metadata": {},
   "outputs": [
    {
     "data": {
      "text/plain": [
       "'derro'"
      ]
     },
     "execution_count": 199,
     "metadata": {},
     "output_type": "execute_result"
    }
   ],
   "source": [
    "AC_df[AC_df['CR(float)'] <= 4].sample(n=1)['Title'].values[0]"
   ]
  },
  {
   "cell_type": "code",
   "execution_count": 293,
   "metadata": {},
   "outputs": [
    {
     "data": {
      "text/plain": [
       "[{'name': 'doppelganger', 'cr': 3.0, 'ac': 15},\n",
       " {'name': 'naga', 'cr': 8.0, 'ac': 14}]"
      ]
     },
     "execution_count": 293,
     "metadata": {},
     "output_type": "execute_result"
    }
   ],
   "source": [
    "def get_monster(monster_db):\n",
    "    monster = monster_db.sample(n=1)\n",
    "    monster_ac = monster['AC(int)'].values[0]\n",
    "    monster_cr = monster['CR(float)'].values[0]\n",
    "    monster_name = monster['Title'].values[0]\n",
    "    return {'name':monster_name, 'cr':monster_cr, 'ac':monster_ac}\n",
    "\n",
    "\n",
    "def get_party_at_ECL(ECL, monster_db):\n",
    "    monster_db = monster_db[monster_db['CR(float)'] < ECL].copy()\n",
    "    \n",
    "    cr = 0\n",
    "    monsters = []\n",
    "\n",
    "    while cr < ECL:\n",
    "        monster = get_monster(monster_db)\n",
    "#         print(monster)\n",
    "        cr += monster['cr']\n",
    "        monsters.append(monster)\n",
    "#         print('cr:', cr)\n",
    "        \n",
    "    return monsters\n",
    "    \n",
    "get_party_at_ECL(ECL=9, monster_db=df)"
   ]
  },
  {
   "cell_type": "code",
   "execution_count": 294,
   "metadata": {},
   "outputs": [
    {
     "data": {
      "text/html": [
       "<div>\n",
       "<style scoped>\n",
       "    .dataframe tbody tr th:only-of-type {\n",
       "        vertical-align: middle;\n",
       "    }\n",
       "\n",
       "    .dataframe tbody tr th {\n",
       "        vertical-align: top;\n",
       "    }\n",
       "\n",
       "    .dataframe thead th {\n",
       "        text-align: right;\n",
       "    }\n",
       "</style>\n",
       "<table border=\"1\" class=\"dataframe\">\n",
       "  <thead>\n",
       "    <tr style=\"text-align: right;\">\n",
       "      <th></th>\n",
       "      <th>ac</th>\n",
       "      <th>cr</th>\n",
       "      <th>name</th>\n",
       "    </tr>\n",
       "  </thead>\n",
       "  <tbody>\n",
       "    <tr>\n",
       "      <th>0</th>\n",
       "      <td>17</td>\n",
       "      <td>0.333333</td>\n",
       "      <td>hawk</td>\n",
       "    </tr>\n",
       "    <tr>\n",
       "      <th>1</th>\n",
       "      <td>14</td>\n",
       "      <td>4.000000</td>\n",
       "      <td>tiger</td>\n",
       "    </tr>\n",
       "    <tr>\n",
       "      <th>2</th>\n",
       "      <td>14</td>\n",
       "      <td>3.000000</td>\n",
       "      <td>phantomFungus</td>\n",
       "    </tr>\n",
       "    <tr>\n",
       "      <th>3</th>\n",
       "      <td>19</td>\n",
       "      <td>5.000000</td>\n",
       "      <td>cloaker</td>\n",
       "    </tr>\n",
       "    <tr>\n",
       "      <th>4</th>\n",
       "      <td>14</td>\n",
       "      <td>0.166667</td>\n",
       "      <td>raven</td>\n",
       "    </tr>\n",
       "    <tr>\n",
       "      <th>5</th>\n",
       "      <td>15</td>\n",
       "      <td>3.000000</td>\n",
       "      <td>eagleGiant</td>\n",
       "    </tr>\n",
       "    <tr>\n",
       "      <th>6</th>\n",
       "      <td>15</td>\n",
       "      <td>7.000000</td>\n",
       "      <td>spectre</td>\n",
       "    </tr>\n",
       "  </tbody>\n",
       "</table>\n",
       "</div>"
      ],
      "text/plain": [
       "   ac        cr           name\n",
       "0  17  0.333333           hawk\n",
       "1  14  4.000000          tiger\n",
       "2  14  3.000000  phantomFungus\n",
       "3  19  5.000000        cloaker\n",
       "4  14  0.166667          raven\n",
       "5  15  3.000000     eagleGiant\n",
       "6  15  7.000000        spectre"
      ]
     },
     "execution_count": 294,
     "metadata": {},
     "output_type": "execute_result"
    }
   ],
   "source": [
    "pd.DataFrame(get_party_at_ECL(ECL=level, monster_db=df))"
   ]
  },
  {
   "cell_type": "code",
   "execution_count": 295,
   "metadata": {},
   "outputs": [],
   "source": [
    "\"\"\"\n",
    "Here we create the randomly sampled database of encounters per level \n",
    "\n",
    "\"\"\"\n",
    "\n",
    "party_levels = np.arange(1, 21, 1)\n",
    "\n",
    "level_dfs = []\n",
    "\n",
    "for level in party_levels:\n",
    "    \n",
    "    level_df = pd.DataFrame()\n",
    "    \n",
    "    for i in np.arange(1000):\n",
    "        level_df = pd.concat([level_df, pd.DataFrame(get_party_at_ECL(ECL=level, monster_db=df))])\n",
    "        \n",
    "    level_dfs.append(level_df)\n",
    "    "
   ]
  },
  {
   "cell_type": "code",
   "execution_count": 331,
   "metadata": {},
   "outputs": [
    {
     "data": {
      "text/plain": [
       "''"
      ]
     },
     "execution_count": 331,
     "metadata": {},
     "output_type": "execute_result"
    },
    {
     "data": {
      "image/png": "[encoded data removed]",
      "text/plain": [
       "<matplotlib.figure.Figure at 0x7f9575f57198>"
      ]
     },
     "metadata": {},
     "output_type": "display_data"
    }
   ],
   "source": [
    "avg_ac = np.array([level['ac'].mean() for level in level_dfs])\n",
    "sem_ac = np.array([level['ac'].sem() for level in level_dfs])\n",
    "\n",
    "fig, ax = plt.subplots(figsize=(9, 7))\n",
    "\n",
    "ax.errorbar(x=party_levels, y=avg_ac, yerr=sem_ac*5, alpha=0.5, color='Purple', capsize=5)\n",
    "\n",
    "ax.set_xlim(0, 21)\n",
    "ax.set_xticks(party_levels)\n",
    "\n",
    "ax.set_ylim(13, 18)\n",
    "\n",
    "ax.set_ylabel('Average Armor Class', fontsize=15)\n",
    "ax.set_xlabel('Party Level', fontsize=15)\n",
    "\n",
    "\"\"\"\n",
    "This plot was created by randomly sampling 1000 encounters per party level to produce\n",
    "a sub-database of Armor Classes. These ACs are then average and the 5 sigma SEM is\n",
    "calculated (thus producing the error bars).\n",
    "\"\"\"\n",
    "''"
   ]
  },
  {
   "cell_type": "code",
   "execution_count": 347,
   "metadata": {},
   "outputs": [],
   "source": [
    "probability_of_threats = (np.abs(np.arange(15, 21, 1)-20)+1)/20 # for threat ranges of 15-20 to 20\n",
    "\n",
    "average_modifier = np.arange(0, 20, 1) # assuming a stat of 10 or 11 for STR or DEX\n",
    "\n",
    "probability_to_beat_ac = 1 - (avg_ac - average_modifier)/20"
   ]
  },
  {
   "cell_type": "code",
   "execution_count": 383,
   "metadata": {},
   "outputs": [
    {
     "data": {
      "text/plain": [
       "(0, 0.4)"
      ]
     },
     "execution_count": 383,
     "metadata": {},
     "output_type": "execute_result"
    },
    {
     "data": {
      "image/png": "[encoded data removed]",
      "text/plain": [
       "<matplotlib.figure.Figure at 0x7f95749b03c8>"
      ]
     },
     "metadata": {},
     "output_type": "display_data"
    }
   ],
   "source": [
    "fig, ax = plt.subplots(figsize=(9, 7))\n",
    "\n",
    "ax.plot(party_levels, probability_to_beat_ac*0.3, label='15-20', linewidth=3)\n",
    "ax.fill_between(x=party_levels, y1=probability_to_beat_ac*0.3-sem_ac, y2=probability_to_beat_ac*0.3+sem_ac, label=None, linewidth=3, alpha=0.3)\n",
    "\n",
    "# ax.plot(party_levels, probability_to_beat_ac*0.25, label='16-20', linewidth=3, linestyle='--')\n",
    "\n",
    "ax.plot(party_levels, probability_to_beat_ac*0.2, label='17-20', linewidth=3)\n",
    "ax.fill_between(x=party_levels, y1=probability_to_beat_ac*0.2-sem_ac, y2=probability_to_beat_ac*0.2+sem_ac, label=None, linewidth=3, alpha=0.3)\n",
    "\n",
    "# ax.plot(party_levels, probability_to_beat_ac*0.15, label='18-20', linewidth=3, linestyle='--')\n",
    "\n",
    "ax.plot(party_levels, probability_to_beat_ac*0.1, label='19-20', linewidth=3)\n",
    "ax.fill_between(x=party_levels, y1=probability_to_beat_ac*0.1-sem_ac, y2=probability_to_beat_ac*0.1+sem_ac, label=None, linewidth=3, alpha=0.3)\n",
    "\n",
    "# ax.plot(party_levels, probability_to_beat_ac*0.05, label='20', linewidth=3, linestyle='--')\n",
    "\n",
    "leg = ax.legend(fontsize=15)\n",
    "leg.set_title('Critical Threat Range',prop={'size':15})\n",
    "ax.set_ylabel('Probability to roll a critical\\nand successfully check', fontsize=15)\n",
    "ax.set_xlabel('Attack Ability Modifier', fontsize=15)\n",
    "\n",
    "ax.set_xticks(party_levels)\n",
    "ax.set_ylim(0, 0.4)"
   ]
  },
  {
   "cell_type": "markdown",
   "metadata": {},
   "source": [
    "# How was this final plot created from start to finish?\n",
    "\n",
    "The process to create this plot is hopefully evident from the code itself, however, I will break it down here.\n",
    "\n",
    "1. Data from [d20SRD monster database](http://www.d20srd.org/indexes/monsters.htm) was scraped and processed to produce a collection of armor classes\n",
    "2. Using the challenge ratings of the creatures, we calculuate encounter levels of 1000 separate encounters and put them into a dataframe for encounter levels 1 through 20\n",
    "3. This allows us to produce average ACs to calculate the second probability of success\n",
    "4. Calculating the joint probability of successfully rolling a critical ( P(roll within critical threat range) * P(succeeding against average AC) )\n",
    "5. Plot is produced\n",
    "\n",
    "# What results can we derive from this anaylsis?\n",
    "\n",
    "Obviously, the best way to increase your chances of rolling a successful critical is by increasing the critical threat range of your weapon. It's also apparent that successfully rolling a critical strike is much smaller than the probability of simply rolling in the critical threat range and the only way to increase this is to increase the attack ability modifier. To increase the critical threat range you have several options.\n",
    "\n",
    "You can do this by using the [keen spell](http://www.d20srd.org/srd/spells/keenEdge.htm), by taking the feat [Improved Critical](http://www.d20srd.org/srd/feats.htm#improvedCritical), or by using a magical weapon with the [keen ability](http://www.d20srd.org/srd/magicItems/magicWeapons.htm#keen). Unfortunately none of these stack so all things being equal, the best choice is to take Improved Critical (which requires a base attack bonus of +8).\n",
    "\n",
    "Beyond using weapons with magical damage, increasing your ability to successfully roll critical threats is good way to deal more damage. Additionally, the more times you get to roll, the higher the likelihood that you will successfully roll a critical threat."
   ]
  }
 ],
 "metadata": {
  "kernelspec": {
   "display_name": "Python 3",
   "language": "python",
   "name": "python3"
  },
  "language_info": {
   "codemirror_mode": {
    "name": "ipython",
    "version": 3
   },
   "file_extension": ".py",
   "mimetype": "text/x-python",
   "name": "python",
   "nbconvert_exporter": "python",
   "pygments_lexer": "ipython3",
   "version": "3.6.3"
  }
 },
 "nbformat": 4,
 "nbformat_minor": 2
}
