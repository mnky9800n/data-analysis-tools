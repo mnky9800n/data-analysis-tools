{
 "cells": [
  {
   "cell_type": "markdown",
   "metadata": {},
   "source": [
    "# Groupby, Pivot table, and apply\n",
    "\n",
    "Groupby, pivot table, and apply are powerful functions in the pandas library. Groupby allows you to group data by different categories and then apply aggregate functions. Pivot table lets you reshape your data along chosen axes. Apply allows you to apply row wise or columnwise custom functions to your data. Below are examples of each function in action."
   ]
  },
  {
   "cell_type": "code",
   "execution_count": 1,
   "metadata": {},
   "outputs": [],
   "source": [
    "%matplotlib inline\n",
    "import pandas as pd\n",
    "import numpy as np"
   ]
  },
  {
   "cell_type": "code",
   "execution_count": 2,
   "metadata": {},
   "outputs": [
    {
     "ename": "ValueError",
     "evalue": "giraffe is not an animal type i know.",
     "output_type": "error",
     "traceback": [
      "\u001b[0;31m---------------------------------------------------------------------------\u001b[0m",
      "\u001b[0;31mValueError\u001b[0m                                Traceback (most recent call last)",
      "\u001b[0;32m<ipython-input-2-34f7e6188823>\u001b[0m in \u001b[0;36m<module>\u001b[0;34m()\u001b[0m\n\u001b[1;32m     15\u001b[0m     \u001b[0;32melse\u001b[0m\u001b[0;34m:\u001b[0m\u001b[0;34m\u001b[0m\u001b[0m\n\u001b[1;32m     16\u001b[0m         \u001b[0;32mraise\u001b[0m \u001b[0mValueError\u001b[0m\u001b[0;34m(\u001b[0m\u001b[0;34m'{animal} is not an animal type i know.'\u001b[0m\u001b[0;34m.\u001b[0m\u001b[0mformat\u001b[0m\u001b[0;34m(\u001b[0m\u001b[0manimal\u001b[0m\u001b[0;34m=\u001b[0m\u001b[0manimal_type\u001b[0m\u001b[0;34m)\u001b[0m\u001b[0;34m)\u001b[0m\u001b[0;34m\u001b[0m\u001b[0m\n\u001b[0;32m---> 17\u001b[0;31m \u001b[0mget_weight_of_animal\u001b[0m\u001b[0;34m(\u001b[0m\u001b[0;34m'giraffe'\u001b[0m\u001b[0;34m)\u001b[0m\u001b[0;34m\u001b[0m\u001b[0m\n\u001b[0m",
      "\u001b[0;32m<ipython-input-2-34f7e6188823>\u001b[0m in \u001b[0;36mget_weight_of_animal\u001b[0;34m(animal_type)\u001b[0m\n\u001b[1;32m     14\u001b[0m         \u001b[0;32mreturn\u001b[0m \u001b[0mnp\u001b[0m\u001b[0;34m.\u001b[0m\u001b[0mrandom\u001b[0m\u001b[0;34m.\u001b[0m\u001b[0mnormal\u001b[0m\u001b[0;34m(\u001b[0m\u001b[0;36m5\u001b[0m\u001b[0;34m)\u001b[0m\u001b[0;34m\u001b[0m\u001b[0m\n\u001b[1;32m     15\u001b[0m     \u001b[0;32melse\u001b[0m\u001b[0;34m:\u001b[0m\u001b[0;34m\u001b[0m\u001b[0m\n\u001b[0;32m---> 16\u001b[0;31m         \u001b[0;32mraise\u001b[0m \u001b[0mValueError\u001b[0m\u001b[0;34m(\u001b[0m\u001b[0;34m'{animal} is not an animal type i know.'\u001b[0m\u001b[0;34m.\u001b[0m\u001b[0mformat\u001b[0m\u001b[0;34m(\u001b[0m\u001b[0manimal\u001b[0m\u001b[0;34m=\u001b[0m\u001b[0manimal_type\u001b[0m\u001b[0;34m)\u001b[0m\u001b[0;34m)\u001b[0m\u001b[0;34m\u001b[0m\u001b[0m\n\u001b[0m\u001b[1;32m     17\u001b[0m \u001b[0mget_weight_of_animal\u001b[0m\u001b[0;34m(\u001b[0m\u001b[0;34m'giraffe'\u001b[0m\u001b[0;34m)\u001b[0m\u001b[0;34m\u001b[0m\u001b[0m\n",
      "\u001b[0;31mValueError\u001b[0m: giraffe is not an animal type i know."
     ]
    }
   ],
   "source": [
    "def get_weight_of_animal(animal_type):\n",
    "    '''\n",
    "    returns the weight of an animal in kilograms.\n",
    "    The weights are normally distributed with a mean\n",
    "    given in the input function and a standard deviation\n",
    "    of 1 (the default value for the function). The function\n",
    "    will fail to return an animal type it doesn't know.\n",
    "    '''\n",
    "    if animal_type=='dog':\n",
    "        return np.random.normal(75)\n",
    "    elif animal_type=='cat':\n",
    "        return np.random.normal(25)\n",
    "    elif animal_type=='bird':\n",
    "        return np.random.normal(5)\n",
    "    else:\n",
    "        raise ValueError('{animal} is not an animal type i know.'.format(animal=animal_type))\n",
    "get_weight_of_animal('giraffe')"
   ]
  },
  {
   "cell_type": "markdown",
   "metadata": {},
   "source": [
    "## Generating a ranodm data set with `np.random.choice` and `apply`\n",
    "\n",
    "Here we generate a random data set of animal categories and animal colors. Animal weights are dictated by the function in `get_weight_of_animal`. Note, there are two data types for animals, categorical and numerical. The categorical data type is what is used in group by functions.\n",
    "\n",
    "In line 11 the apply is used on the `animal_category` dataframe column. This tells the dataframe to apply the function `get_weight_of_animal` to each row in the `animal_category` column. The value in each row is the input for the `get_weight_of_animal` function."
   ]
  },
  {
   "cell_type": "code",
   "execution_count": 3,
   "metadata": {},
   "outputs": [],
   "source": [
    "animal_category = ['dog', 'cat', 'bird']\n",
    "animal_cat = np.random.choice(animal_category, 10000)\n",
    "\n",
    "animal_color = ['red', 'blue', 'brown', 'black', 'green']\n",
    "animal_col = np.random.choice(animal_color, 10000)\n",
    "\n",
    "\n",
    "df = pd.DataFrame()\n",
    "df['animal_category'] = animal_cat\n",
    "df['animal_color'] = animal_col\n",
    "df['animal_weight'] = df['animal_category'].apply(get_weight_of_animal)"
   ]
  },
  {
   "cell_type": "markdown",
   "metadata": {},
   "source": [
    "## Groupby in action\n",
    "Here we see the groupby function in action. The group by takes each category and applies an aggregate function to the category. In this case we are calculating the mean and standard deviation of the animal weights, but any aggregate function can be used here."
   ]
  },
  {
   "cell_type": "code",
   "execution_count": 4,
   "metadata": {},
   "outputs": [
    {
     "data": {
      "text/html": [
       "<div>\n",
       "<style scoped>\n",
       "    .dataframe tbody tr th:only-of-type {\n",
       "        vertical-align: middle;\n",
       "    }\n",
       "\n",
       "    .dataframe tbody tr th {\n",
       "        vertical-align: top;\n",
       "    }\n",
       "\n",
       "    .dataframe thead th {\n",
       "        text-align: right;\n",
       "    }\n",
       "</style>\n",
       "<table border=\"1\" class=\"dataframe\">\n",
       "  <thead>\n",
       "    <tr style=\"text-align: right;\">\n",
       "      <th></th>\n",
       "      <th>animal_weight</th>\n",
       "    </tr>\n",
       "    <tr>\n",
       "      <th>animal_category</th>\n",
       "      <th></th>\n",
       "    </tr>\n",
       "  </thead>\n",
       "  <tbody>\n",
       "    <tr>\n",
       "      <th>bird</th>\n",
       "      <td>5.002899</td>\n",
       "    </tr>\n",
       "    <tr>\n",
       "      <th>cat</th>\n",
       "      <td>25.029095</td>\n",
       "    </tr>\n",
       "    <tr>\n",
       "      <th>dog</th>\n",
       "      <td>75.036677</td>\n",
       "    </tr>\n",
       "  </tbody>\n",
       "</table>\n",
       "</div>"
      ],
      "text/plain": [
       "                 animal_weight\n",
       "animal_category               \n",
       "bird                  5.002899\n",
       "cat                  25.029095\n",
       "dog                  75.036677"
      ]
     },
     "execution_count": 4,
     "metadata": {},
     "output_type": "execute_result"
    }
   ],
   "source": [
    "df.groupby('animal_category').mean()"
   ]
  },
  {
   "cell_type": "code",
   "execution_count": 5,
   "metadata": {},
   "outputs": [
    {
     "data": {
      "text/html": [
       "<div>\n",
       "<style scoped>\n",
       "    .dataframe tbody tr th:only-of-type {\n",
       "        vertical-align: middle;\n",
       "    }\n",
       "\n",
       "    .dataframe tbody tr th {\n",
       "        vertical-align: top;\n",
       "    }\n",
       "\n",
       "    .dataframe thead th {\n",
       "        text-align: right;\n",
       "    }\n",
       "</style>\n",
       "<table border=\"1\" class=\"dataframe\">\n",
       "  <thead>\n",
       "    <tr style=\"text-align: right;\">\n",
       "      <th></th>\n",
       "      <th>animal_weight</th>\n",
       "    </tr>\n",
       "    <tr>\n",
       "      <th>animal_category</th>\n",
       "      <th></th>\n",
       "    </tr>\n",
       "  </thead>\n",
       "  <tbody>\n",
       "    <tr>\n",
       "      <th>bird</th>\n",
       "      <td>1.018436</td>\n",
       "    </tr>\n",
       "    <tr>\n",
       "      <th>cat</th>\n",
       "      <td>1.007411</td>\n",
       "    </tr>\n",
       "    <tr>\n",
       "      <th>dog</th>\n",
       "      <td>0.994942</td>\n",
       "    </tr>\n",
       "  </tbody>\n",
       "</table>\n",
       "</div>"
      ],
      "text/plain": [
       "                 animal_weight\n",
       "animal_category               \n",
       "bird                  1.018436\n",
       "cat                   1.007411\n",
       "dog                   0.994942"
      ]
     },
     "execution_count": 5,
     "metadata": {},
     "output_type": "execute_result"
    }
   ],
   "source": [
    "df.groupby('animal_category').std()"
   ]
  },
  {
   "cell_type": "markdown",
   "metadata": {},
   "source": [
    "## Pivot table\n",
    "Pivot tables use categorical data and pivots on the axis to create a new structure. Pivot table may appear to be exactly the same as using group by on two columns (in this case, `animal_category` and `animal_color`) however it has one important difference, the shape of the returned data is different. While in this trivial example it may not be obvious as to the utility, the goals of the pivot table are often very useful (such as creating a data set where each row is unique).\n",
    "\n",
    "To explain the pivot table, the data is grouped twice, first by animal category, then each category is split by animal color. Then the aggregate function `np.mean` is applied to all the data. The second category animal color is then rotated to be used as columns to form a new data shape as seen below."
   ]
  },
  {
   "cell_type": "code",
   "execution_count": 6,
   "metadata": {},
   "outputs": [
    {
     "data": {
      "text/html": [
       "<div>\n",
       "<style scoped>\n",
       "    .dataframe tbody tr th:only-of-type {\n",
       "        vertical-align: middle;\n",
       "    }\n",
       "\n",
       "    .dataframe tbody tr th {\n",
       "        vertical-align: top;\n",
       "    }\n",
       "\n",
       "    .dataframe thead th {\n",
       "        text-align: right;\n",
       "    }\n",
       "</style>\n",
       "<table border=\"1\" class=\"dataframe\">\n",
       "  <thead>\n",
       "    <tr style=\"text-align: right;\">\n",
       "      <th>animal_color</th>\n",
       "      <th>black</th>\n",
       "      <th>blue</th>\n",
       "      <th>brown</th>\n",
       "      <th>green</th>\n",
       "      <th>red</th>\n",
       "    </tr>\n",
       "    <tr>\n",
       "      <th>animal_category</th>\n",
       "      <th></th>\n",
       "      <th></th>\n",
       "      <th></th>\n",
       "      <th></th>\n",
       "      <th></th>\n",
       "    </tr>\n",
       "  </thead>\n",
       "  <tbody>\n",
       "    <tr>\n",
       "      <th>bird</th>\n",
       "      <td>4.976396</td>\n",
       "      <td>5.045614</td>\n",
       "      <td>5.030270</td>\n",
       "      <td>4.975072</td>\n",
       "      <td>4.987853</td>\n",
       "    </tr>\n",
       "    <tr>\n",
       "      <th>cat</th>\n",
       "      <td>25.005750</td>\n",
       "      <td>25.009736</td>\n",
       "      <td>25.019404</td>\n",
       "      <td>25.057985</td>\n",
       "      <td>25.052419</td>\n",
       "    </tr>\n",
       "    <tr>\n",
       "      <th>dog</th>\n",
       "      <td>75.078008</td>\n",
       "      <td>75.000129</td>\n",
       "      <td>75.072489</td>\n",
       "      <td>75.057202</td>\n",
       "      <td>74.977063</td>\n",
       "    </tr>\n",
       "  </tbody>\n",
       "</table>\n",
       "</div>"
      ],
      "text/plain": [
       "animal_color         black       blue      brown      green        red\n",
       "animal_category                                                       \n",
       "bird              4.976396   5.045614   5.030270   4.975072   4.987853\n",
       "cat              25.005750  25.009736  25.019404  25.057985  25.052419\n",
       "dog              75.078008  75.000129  75.072489  75.057202  74.977063"
      ]
     },
     "execution_count": 6,
     "metadata": {},
     "output_type": "execute_result"
    }
   ],
   "source": [
    "df.pivot_table(index='animal_category', columns='animal_color', values='animal_weight', aggfunc=np.mean)"
   ]
  },
  {
   "cell_type": "code",
   "execution_count": null,
   "metadata": {},
   "outputs": [],
   "source": []
  }
 ],
 "metadata": {
  "kernelspec": {
   "display_name": "Python 3",
   "language": "python",
   "name": "python3"
  },
  "language_info": {
   "codemirror_mode": {
    "name": "ipython",
    "version": 3
   },
   "file_extension": ".py",
   "mimetype": "text/x-python",
   "name": "python",
   "nbconvert_exporter": "python",
   "pygments_lexer": "ipython3",
   "version": "3.6.5"
  }
 },
 "nbformat": 4,
 "nbformat_minor": 2
}
