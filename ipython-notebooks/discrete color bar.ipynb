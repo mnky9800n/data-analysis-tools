{
 "cells": [
  {
   "cell_type": "code",
   "execution_count": 1,
   "metadata": {},
   "outputs": [],
   "source": [
    "%matplotlib inline\n",
    "import matplotlib.pyplot as plt\n",
    "import matplotlib as mpl\n",
    "import numpy as np"
   ]
  },
  {
   "cell_type": "markdown",
   "metadata": {},
   "source": [
    "# Discrete color bars\n",
    "\n",
    "In matplotlib you typically manipulate the colormap itself in order to produce difference effects in the color map. Here I will demonstrate how to create a discrete color bar for normally distributed 2D data. This notebook will explain each step I went through, including the ones not directly related to creating the discrete colorbar."
   ]
  },
  {
   "cell_type": "markdown",
   "metadata": {},
   "source": [
    "### Step 1\n",
    "Here we create 2 arrays of normally distributed data and then put the data in a 2d histogram. We don't have to have a histogram of data to plot these types of plots but the histogram shapes the generated data for `pcolormesh`."
   ]
  },
  {
   "cell_type": "code",
   "execution_count": 2,
   "metadata": {},
   "outputs": [],
   "source": [
    "x = np.random.randn(100000)\n",
    "y = np.random.randn(100000)\n",
    "h, ex, ey = np.histogram2d(x, y, bins=[100, 100], range=((-3, 3), (-3, 3)))"
   ]
  },
  {
   "cell_type": "markdown",
   "metadata": {},
   "source": [
    "### Step 2\n",
    "\n",
    "Here we explicitly declare the colormap so that we can manipulate it. As an example, we set the \"bad\" color to white.  A bad cell is one which  we have decided we shouldn't plot, in this case I say any part of the histogram that has a count of 0 is \"bad\" data. Then we create a masked array of the data. # masked data is a fancy way to set the good and bad data points. It does a lot of magic behind the scenes and I recommend reading the documentation surrounding masked data. (see references)\n",
    "\n",
    "### Note:\n",
    "1. setting the bad color isn't necessary for creating a discrete color bar, but it does make the plot prettier in my opinion.\n",
    "2. while we originally created the histogram data array as h we will use the masked array a for the plot"
   ]
  },
  {
   "cell_type": "code",
   "execution_count": 3,
   "metadata": {},
   "outputs": [],
   "source": [
    "cmap = plt.cm.jet\n",
    "cmap.set_bad(color='white')\n",
    "a = np.ma.masked_where(h == 0, h)"
   ]
  },
  {
   "cell_type": "markdown",
   "metadata": {},
   "source": [
    "### Discrete color bar magic\n",
    "Here is where the magic happens for the discrete colorbar. Since we already declared the colorbar explicitly as `cmap`, we can now manipulate it with the `BoundaryNorm` function. First we create the bounding area for each discrete range we want to color, then we create the normalization for the colormap itself and call it `norm`."
   ]
  },
  {
   "cell_type": "code",
   "execution_count": 5,
   "metadata": {},
   "outputs": [],
   "source": [
    "bounds = np.arange(0, 71, 10)\n",
    "norm = mpl.colors.BoundaryNorm(bounds, cmap.N)"
   ]
  },
  {
   "cell_type": "markdown",
   "metadata": {},
   "source": [
    "### Create the plot!\n",
    "Now that we have assembled all of the parts necessary to create the plot, we can put them together to create beautiful plot with a discrete colormap. The most necessary parts here are using `cmap` and `norm` however also note we set `vmin` and `vmax` to follow the bounds."
   ]
  },
  {
   "cell_type": "code",
   "execution_count": 7,
   "metadata": {},
   "outputs": [
    {
     "data": {
      "text/plain": [
       "<matplotlib.colorbar.Colorbar at 0x7f8d214f2898>"
      ]
     },
     "execution_count": 7,
     "metadata": {},
     "output_type": "execute_result"
    },
    {
     "data": {
      "image/png": "[encoded data removed]",
      "text/plain": [
       "<matplotlib.figure.Figure at 0x7f8d2162f828>"
      ]
     },
     "metadata": {},
     "output_type": "display_data"
    }
   ],
   "source": [
    "fig, ax = plt.subplots(figsize=(9, 8))\n",
    "cbar = ax.pcolormesh(ex, ey, a, cmap=cmap, vmin=bounds.min(), vmax=bounds.max(), norm=norm)\n",
    "fig.colorbar(cbar)"
   ]
  },
  {
   "cell_type": "markdown",
   "metadata": {},
   "source": [
    "# References\n",
    "\n",
    "1. Masked arrays documentation: https://docs.scipy.org/doc/numpy/reference/maskedarray.html"
   ]
  }
 ],
 "metadata": {
  "kernelspec": {
   "display_name": "Python 3",
   "language": "python",
   "name": "python3"
  },
  "language_info": {
   "codemirror_mode": {
    "name": "ipython",
    "version": 3
   },
   "file_extension": ".py",
   "mimetype": "text/x-python",
   "name": "python",
   "nbconvert_exporter": "python",
   "pygments_lexer": "ipython3",
   "version": "3.6.3"
  }
 },
 "nbformat": 4,
 "nbformat_minor": 2
}
